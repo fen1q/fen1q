{
  "cells": [
    {
      "cell_type": "markdown",
      "metadata": {
        "id": "WVwwLGu0Nvd_"
      },
      "source": [
        "## Валидация"
      ]
    },
    {
      "cell_type": "code",
      "execution_count": null,
      "metadata": {
        "id": "ahfWmzgANveA"
      },
      "outputs": [],
      "source": [
        "import warnings\n",
        "import numpy as np\n",
        "import pandas as pd\n",
        "import matplotlib.pyplot as plt\n",
        "\n",
        "from sklearn.metrics import roc_auc_score\n",
        "from sklearn.preprocessing import StandardScaler\n",
        "from sklearn.linear_model import LogisticRegression\n",
        "from sklearn.model_selection import train_test_split\n",
        "from sklearn.model_selection import KFold, StratifiedKFold\n",
        "from sklearn.model_selection import cross_val_score\n",
        "from sklearn.pipeline import Pipeline\n",
        "warnings.simplefilter(\"ignore\")\n",
        "%matplotlib inline"
      ]
    },
    {
      "cell_type": "code",
      "execution_count": null,
      "metadata": {
        "id": "iGm1aRqpNveB",
        "outputId": "6228a15d-6468-4cac-b527-9db16caf654b"
      },
      "outputs": [
        {
          "data": {
            "text/html": [
              "<div>\n",
              "<style scoped>\n",
              "    .dataframe tbody tr th:only-of-type {\n",
              "        vertical-align: middle;\n",
              "    }\n",
              "\n",
              "    .dataframe tbody tr th {\n",
              "        vertical-align: top;\n",
              "    }\n",
              "\n",
              "    .dataframe thead th {\n",
              "        text-align: right;\n",
              "    }\n",
              "</style>\n",
              "<table border=\"1\" class=\"dataframe\">\n",
              "  <thead>\n",
              "    <tr style=\"text-align: right;\">\n",
              "      <th></th>\n",
              "      <th>ID_code</th>\n",
              "      <th>target</th>\n",
              "      <th>var_0</th>\n",
              "      <th>var_1</th>\n",
              "      <th>var_2</th>\n",
              "      <th>var_3</th>\n",
              "      <th>var_4</th>\n",
              "      <th>var_5</th>\n",
              "      <th>var_6</th>\n",
              "      <th>var_7</th>\n",
              "      <th>...</th>\n",
              "      <th>var_190</th>\n",
              "      <th>var_191</th>\n",
              "      <th>var_192</th>\n",
              "      <th>var_193</th>\n",
              "      <th>var_194</th>\n",
              "      <th>var_195</th>\n",
              "      <th>var_196</th>\n",
              "      <th>var_197</th>\n",
              "      <th>var_198</th>\n",
              "      <th>var_199</th>\n",
              "    </tr>\n",
              "  </thead>\n",
              "  <tbody>\n",
              "    <tr>\n",
              "      <th>0</th>\n",
              "      <td>train_0</td>\n",
              "      <td>0</td>\n",
              "      <td>8.9255</td>\n",
              "      <td>-6.7863</td>\n",
              "      <td>11.9081</td>\n",
              "      <td>5.093</td>\n",
              "      <td>11.4607</td>\n",
              "      <td>-9.2834</td>\n",
              "      <td>5.1187</td>\n",
              "      <td>18.6266</td>\n",
              "      <td>...</td>\n",
              "      <td>4.4354</td>\n",
              "      <td>3.9642</td>\n",
              "      <td>3.1364</td>\n",
              "      <td>1.6910</td>\n",
              "      <td>18.5227</td>\n",
              "      <td>-2.3978</td>\n",
              "      <td>7.8784</td>\n",
              "      <td>8.5635</td>\n",
              "      <td>12.7803</td>\n",
              "      <td>-1.0914</td>\n",
              "    </tr>\n",
              "    <tr>\n",
              "      <th>1</th>\n",
              "      <td>train_1</td>\n",
              "      <td>0</td>\n",
              "      <td>11.5006</td>\n",
              "      <td>-4.1473</td>\n",
              "      <td>13.8588</td>\n",
              "      <td>5.389</td>\n",
              "      <td>12.3622</td>\n",
              "      <td>7.0433</td>\n",
              "      <td>5.6208</td>\n",
              "      <td>16.5338</td>\n",
              "      <td>...</td>\n",
              "      <td>7.6421</td>\n",
              "      <td>7.7214</td>\n",
              "      <td>2.5837</td>\n",
              "      <td>10.9516</td>\n",
              "      <td>15.4305</td>\n",
              "      <td>2.0339</td>\n",
              "      <td>8.1267</td>\n",
              "      <td>8.7889</td>\n",
              "      <td>18.3560</td>\n",
              "      <td>1.9518</td>\n",
              "    </tr>\n",
              "  </tbody>\n",
              "</table>\n",
              "<p>2 rows × 202 columns</p>\n",
              "</div>"
            ],
            "text/plain": [
              "   ID_code  target    var_0   var_1    var_2  var_3    var_4   var_5   var_6  \\\n",
              "0  train_0       0   8.9255 -6.7863  11.9081  5.093  11.4607 -9.2834  5.1187   \n",
              "1  train_1       0  11.5006 -4.1473  13.8588  5.389  12.3622  7.0433  5.6208   \n",
              "\n",
              "     var_7  ...  var_190  var_191  var_192  var_193  var_194  var_195  \\\n",
              "0  18.6266  ...   4.4354   3.9642   3.1364   1.6910  18.5227  -2.3978   \n",
              "1  16.5338  ...   7.6421   7.7214   2.5837  10.9516  15.4305   2.0339   \n",
              "\n",
              "   var_196  var_197  var_198  var_199  \n",
              "0   7.8784   8.5635  12.7803  -1.0914  \n",
              "1   8.1267   8.7889  18.3560   1.9518  \n",
              "\n",
              "[2 rows x 202 columns]"
            ]
          },
          "execution_count": 6,
          "metadata": {},
          "output_type": "execute_result"
        }
      ],
      "source": [
        "data = pd.read_csv(\n",
        "    \"./santander-customer-transaction-prediction/train.csv\", nrows=60000\n",
        ")\n",
        "data.head(n=2)"
      ]
    },
    {
      "cell_type": "code",
      "execution_count": null,
      "metadata": {
        "id": "y-jj6lTTNveC",
        "outputId": "19ad5aee-9d3f-4774-a548-f3f6ce26a20b"
      },
      "outputs": [
        {
          "name": "stdout",
          "output_type": "stream",
          "text": [
            "x_train.shape = 45000 rows, 200 cols\n",
            "x_test.shape = 15000 rows, 200 cols\n"
          ]
        }
      ],
      "source": [
        "\n",
        "x_train, x_test = train_test_split(\n",
        "    data.drop([\"ID_code\", \"target\"], axis=1), train_size=0.75, shuffle=True, random_state=1,\n",
        ")\n",
        "y_train, y_test = train_test_split(\n",
        "    data[\"target\"], train_size=0.75, shuffle=True, random_state=1,\n",
        ")\n",
        "print(\"x_train.shape = {} rows, {} cols\".format(*x_train.shape))\n",
        "print(\"x_test.shape = {} rows, {} cols\".format(*x_test.shape))"
      ]
    },
    {
      "cell_type": "code",
      "execution_count": null,
      "metadata": {
        "id": "EilQ6J9KNveC",
        "outputId": "fb8409dd-e5fb-4701-8d1e-4ee5e03b0672"
      },
      "outputs": [
        {
          "data": {
            "text/plain": [
              "Pipeline(memory=None,\n",
              "         steps=[('scaling',\n",
              "                 StandardScaler(copy=True, with_mean=True, with_std=True)),\n",
              "                ('model',\n",
              "                 LogisticRegression(C=1.0, class_weight=None, dual=False,\n",
              "                                    fit_intercept=True, intercept_scaling=1,\n",
              "                                    l1_ratio=None, max_iter=100,\n",
              "                                    multi_class='auto', n_jobs=None,\n",
              "                                    penalty='l2', random_state=27,\n",
              "                                    solver='lbfgs', tol=0.0001, verbose=0,\n",
              "                                    warm_start=False))],\n",
              "         verbose=False)"
            ]
          },
          "execution_count": 11,
          "metadata": {},
          "output_type": "execute_result"
        }
      ],
      "source": [
        "\n",
        "pipeline = Pipeline(\n",
        "    steps=[\n",
        "        (\"scaling\", StandardScaler()),\n",
        "        (\"model\", LogisticRegression(random_state=27))\n",
        "    ]\n",
        ")\n",
        "\n",
        "pipeline.fit(x_train, y_train)"
      ]
    },
    {
      "cell_type": "code",
      "execution_count": null,
      "metadata": {
        "id": "YQS0PAnYNveC",
        "outputId": "78cf22da-6940-444f-9120-b876ff8ec31d"
      },
      "outputs": [
        {
          "name": "stdout",
          "output_type": "stream",
          "text": [
            "Train-score: 0.864, Test-score: 0.846\n"
          ]
        }
      ],
      "source": [
        "\n",
        "\n",
        "train_score = roc_auc_score(y_train, pipeline.predict_proba(x_train)[:, 1])\n",
        "test_score = roc_auc_score(y_test, pipeline.predict_proba(x_test)[:, 1])\n",
        "\n",
        "print(f\"Train-score: {round(train_score, 3)}, Test-score: {round(test_score, 3)}\")"
      ]
    },
    {
      "cell_type": "markdown",
      "metadata": {
        "id": "n3Gu49h_NveC"
      },
      "source": [
        "Мы получили первые результаты, но насколько мы можем доверять таким результатам?\n",
        "Дело в том, что в ходе построения модели машинного обучения, мы будем проводить много экспериментов и проверять качество модели на одной и той же выборке не очень хороший подход. Если мы будем оценивать качество модели на одной и той же выборке много раз, мы можем слишком сильно настроиться на эту выборку или __переобучиться под конкретную выборку__."
      ]
    },
    {
      "cell_type": "code",
      "execution_count": null,
      "metadata": {
        "id": "yhYXjkawNveD",
        "outputId": "5f323f4e-a0ce-4729-dd47-f75b02f17e4a"
      },
      "outputs": [
        {
          "name": "stdout",
          "output_type": "stream",
          "text": [
            "x_train.shape = 42000 rows, 200 cols\n",
            "x_valid.shape = 12600 rows, 200 cols\n",
            "x_test.shape = 5400 rows, 200 cols\n"
          ]
        }
      ],
      "source": [
        "\n",
        "\n",
        "x_train, x_valid = train_test_split(\n",
        "    data.drop([\"ID_code\", \"target\"], axis=1), train_size=0.7, shuffle=True, random_state=1,\n",
        ")\n",
        "y_train, y_valid = train_test_split(\n",
        "    data[\"target\"], train_size=0.7, shuffle=True, random_state=1,\n",
        ")\n",
        "\n",
        "\n",
        "x_valid, x_test = train_test_split(\n",
        "    x_valid, train_size=0.7, shuffle=True, random_state=27\n",
        ")\n",
        "y_valid, y_test = train_test_split(\n",
        "    y_valid, train_size=0.7, shuffle=True, random_state=27\n",
        ")\n",
        "\n",
        "print(\"x_train.shape = {} rows, {} cols\".format(*x_train.shape))\n",
        "print(\"x_valid.shape = {} rows, {} cols\".format(*x_valid.shape))\n",
        "print(\"x_test.shape = {} rows, {} cols\".format(*x_test.shape))"
      ]
    },
    {
      "cell_type": "code",
      "execution_count": null,
      "metadata": {
        "id": "Y1OF6Q8hNveD",
        "outputId": "ca0dcdd8-7ccb-419a-b733-b652d7f1c0b7"
      },
      "outputs": [
        {
          "data": {
            "text/plain": [
              "Pipeline(memory=None,\n",
              "         steps=[('scaling',\n",
              "                 StandardScaler(copy=True, with_mean=True, with_std=True)),\n",
              "                ('model',\n",
              "                 LogisticRegression(C=1.0, class_weight=None, dual=False,\n",
              "                                    fit_intercept=True, intercept_scaling=1,\n",
              "                                    l1_ratio=None, max_iter=100,\n",
              "                                    multi_class='auto', n_jobs=None,\n",
              "                                    penalty='l2', random_state=27,\n",
              "                                    solver='lbfgs', tol=0.0001, verbose=0,\n",
              "                                    warm_start=False))],\n",
              "         verbose=False)"
            ]
          },
          "execution_count": 14,
          "metadata": {},
          "output_type": "execute_result"
        }
      ],
      "source": [
        "pipeline.fit(x_train, y_train)"
      ]
    },
    {
      "cell_type": "code",
      "execution_count": null,
      "metadata": {
        "id": "ctzwdTXWNveD",
        "outputId": "8eb96294-f47b-4cd3-a068-2fb5238d1424"
      },
      "outputs": [
        {
          "name": "stdout",
          "output_type": "stream",
          "text": [
            "Train-score: 0.864, Valid-score: 0.853, Test-score: 0.836\n"
          ]
        }
      ],
      "source": [
        "train_score = roc_auc_score(y_train, pipeline.predict_proba(x_train)[:, 1])\n",
        "valid_score = roc_auc_score(y_valid, pipeline.predict_proba(x_valid)[:, 1])\n",
        "test_score = roc_auc_score(y_test, pipeline.predict_proba(x_test)[:, 1])\n",
        "\n",
        "print(f\"Train-score: {round(train_score, 3)}, Valid-score: {round(valid_score, 3)}, Test-score: {round(test_score, 3)}\")"
      ]
    },
    {
      "cell_type": "markdown",
      "metadata": {
        "id": "pwF_m0S8NveD"
      },
      "source": [
        "Мы получили более устойчивые результаты, которые позволят более честно оценить качество модели и использовать текцщее решенеи, как отправную точку для дальнейшего улучшения решения. Проблема нашего подхода заключается в том, что мы используем не все данные для обучения и для тестирования модели. Возможно, что разбиение, которое мы провели является слишком специфичным и не позволяет оценить качество модели объективно."
      ]
    },
    {
      "cell_type": "markdown",
      "metadata": {
        "id": "ERqS4MZ0NveD"
      },
      "source": [
        "## KFold кросс-валидация\n",
        "\n"
      ]
    },
    {
      "cell_type": "code",
      "execution_count": null,
      "metadata": {
        "id": "7euXeTO3NveD",
        "outputId": "0292016a-4ce1-465c-a3a7-2acc53d4250a"
      },
      "outputs": [
        {
          "name": "stdout",
          "output_type": "stream",
          "text": [
            "CV-results: 0.8553 +/- 0.007\n"
          ]
        }
      ],
      "source": [
        "kfold = KFold(n_splits=10, shuffle=True, random_state=27)\n",
        "\n",
        "cv = cross_val_score(\n",
        "    estimator=pipeline,\n",
        "    X=data.drop([\"ID_code\", \"target\"], axis=1),\n",
        "    y=data[\"target\"],\n",
        "    scoring=\"roc_auc\",\n",
        "    cv=kfold\n",
        ")\n",
        "\n",
        "print(f\"CV-results: {round(np.mean(cv), 4)} +/- {round(np.std(cv), 3)}\")"
      ]
    },
    {
      "cell_type": "code",
      "execution_count": null,
      "metadata": {
        "id": "_MqWSepwNveE",
        "outputId": "cd7df022-1e62-4f0c-dae0-2d7ce1c6eb25"
      },
      "outputs": [
        {
          "name": "stdout",
          "output_type": "stream",
          "text": [
            "[0.85765454 0.86016764 0.84786461 0.85616674 0.85565036 0.86268263\n",
            " 0.85306287 0.85539241 0.8640899  0.84032007]\n"
          ]
        }
      ],
      "source": [
        "print(cv)"
      ]
    },
    {
      "cell_type": "markdown",
      "metadata": {
        "id": "pdpCtxsuNveE"
      },
      "source": [
        "На выходе, мы получаем значение метрики качества на каждом тестовом фолде в отдельности, и для получения итогового качества можем посчитать среднее значение на всех фолдах и стандартное отклонение на каждом фолде.\n",
        "\n",
        "## Stratified KFold валидация\n",
        "\n"
      ]
    },
    {
      "cell_type": "code",
      "execution_count": null,
      "metadata": {
        "id": "98tjRRhkNveE",
        "outputId": "59c1bcf4-a5d2-4f5c-cb21-a634e5015717"
      },
      "outputs": [
        {
          "name": "stdout",
          "output_type": "stream",
          "text": [
            "CV-results: 0.8553 +/- 0.007\n"
          ]
        }
      ],
      "source": [
        "\n",
        "skfold = StratifiedKFold(n_splits=10, shuffle=True, random_state=27)\n",
        "\n",
        "cv = cross_val_score(\n",
        "    estimator=pipeline,\n",
        "    X=data.drop([\"ID_code\", \"target\"], axis=1),\n",
        "    y=data[\"target\"],\n",
        "    scoring=\"roc_auc\",\n",
        "    cv=kfold\n",
        ")\n",
        "\n",
        "print(f\"CV-results: {round(np.mean(cv), 4)} +/- {round(np.std(cv), 3)}\")"
      ]
    },
    {
      "cell_type": "code",
      "execution_count": null,
      "metadata": {
        "id": "En3TRWElNveE",
        "outputId": "7a5637b7-78d2-43e3-e16a-e0f475b09f05"
      },
      "outputs": [
        {
          "name": "stdout",
          "output_type": "stream",
          "text": [
            "[0.85765454 0.86016764 0.84786461 0.85616674 0.85565036 0.86268263\n",
            " 0.85306287 0.85539241 0.8640899  0.84032007]\n"
          ]
        }
      ],
      "source": [
        "print(cv)"
      ]
    },
    {
      "cell_type": "markdown",
      "metadata": {
        "id": "_CeE6puaNveE"
      },
      "source": [
        "## Комбинация отложенной выборки и кросс-валидации\n",
        "\n",
        "Если есть возможность (вычислительная и по объему наблюдений) имеет смысл комбинировать разные способы валидации, например, это может быть комбинация кросс-валидации и отложенной выборки"
      ]
    },
    {
      "cell_type": "code",
      "execution_count": null,
      "metadata": {
        "id": "Yl6xj1DwNveE"
      },
      "outputs": [],
      "source": [
        "\n",
        "x_train, x_test = train_test_split(\n",
        "    data.drop([\"ID_code\", \"target\"], axis=1), train_size=0.7, shuffle=True, random_state=1,\n",
        ")\n",
        "y_train, y_test = train_test_split(\n",
        "    data[\"target\"], train_size=0.7, shuffle=True, random_state=1,\n",
        ")\n",
        "\n",
        "\n",
        "kfold = KFold(n_splits=10, shuffle=True, random_state=27)"
      ]
    },
    {
      "cell_type": "code",
      "execution_count": null,
      "metadata": {
        "id": "gGOsmZDENveE",
        "outputId": "847c5235-5438-49cf-ebcc-e6b0f247e315"
      },
      "outputs": [
        {
          "name": "stdout",
          "output_type": "stream",
          "text": [
            "CV-results: 0.8571 +/- 0.01\n"
          ]
        }
      ],
      "source": [
        "\n",
        "cv = cross_val_score(\n",
        "    estimator=pipeline,\n",
        "    X=x_train,\n",
        "    y=y_train,\n",
        "    scoring=\"roc_auc\",\n",
        "    cv=kfold\n",
        ")\n",
        "\n",
        "\n",
        "print(f\"CV-results: {round(np.mean(cv), 4)} +/- {round(np.std(cv), 3)}\")"
      ]
    },
    {
      "cell_type": "code",
      "execution_count": null,
      "metadata": {
        "id": "PwD1vcuXNveF",
        "outputId": "3233066e-f854-4916-e751-d0908bfac42c"
      },
      "outputs": [
        {
          "name": "stdout",
          "output_type": "stream",
          "text": [
            "Out-Of-Fold-score: 0.848\n"
          ]
        }
      ],
      "source": [
        "pipeline.fit(x_train, y_train)\n",
        "\n",
        "y_pred = pipeline.predict_proba(x_test)[:, 1]\n",
        "score = roc_auc_score(y_test, y_pred)\n",
        "\n",
        "print(f\"Out-Of-Fold-score: {round(score, 3)}\")"
      ]
    },
    {
      "cell_type": "code",
      "execution_count": null,
      "metadata": {
        "id": "Zs7F47JxNveF",
        "outputId": "7680e763-fd8a-4f4b-db0f-b0190b38bf6e"
      },
      "outputs": [
        {
          "name": "stdout",
          "output_type": "stream",
          "text": [
            "Delta between CV-score and OOF-score: 0.0093\n"
          ]
        }
      ],
      "source": [
        "delta = np.mean(cv) - score\n",
        "print(f\"Delta between CV-score and OOF-score: {round(delta, 4)}\")"
      ]
    },
    {
      "cell_type": "markdown",
      "metadata": {
        "id": "2thKZ5OfNveF"
      },
      "source": [
        "Разница между значением метрики на кросс-валидации и значением метрики на отложенной выборке очень маленькое, это говорит о том, что мы получили устойчивые значения проверки модели."
      ]
    }
  ],
  "metadata": {
    "kernelspec": {
      "display_name": "Python 3",
      "language": "python",
      "name": "python3"
    },
    "language_info": {
      "codemirror_mode": {
        "name": "ipython",
        "version": 3
      },
      "file_extension": ".py",
      "mimetype": "text/x-python",
      "name": "python",
      "nbconvert_exporter": "python",
      "pygments_lexer": "ipython3",
      "version": "3.7.6"
    },
    "colab": {
      "provenance": []
    }
  },
  "nbformat": 4,
  "nbformat_minor": 0
}