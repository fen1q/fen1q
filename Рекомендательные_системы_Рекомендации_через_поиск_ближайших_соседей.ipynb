{
  "cells": [
    {
      "cell_type": "markdown",
      "metadata": {
        "id": "CHP5imQSCv8S"
      },
      "source": [
        "# Рекомендательные системы. Рекомендации через поиск ближайших соседей"
      ]
    },
    {
      "cell_type": "code",
      "source": [
        "pip install faiss-cpu"
      ],
      "metadata": {
        "colab": {
          "base_uri": "https://localhost:8080/"
        },
        "id": "puAUcwNkC3Yh",
        "outputId": "80f3b4ea-bc82-4db9-8acc-3c77e9c357f1"
      },
      "execution_count": null,
      "outputs": [
        {
          "output_type": "stream",
          "name": "stdout",
          "text": [
            "Collecting faiss-cpu\n",
            "  Downloading faiss_cpu-1.9.0.post1-cp310-cp310-manylinux_2_17_x86_64.manylinux2014_x86_64.whl.metadata (4.4 kB)\n",
            "Requirement already satisfied: numpy<3.0,>=1.25.0 in /usr/local/lib/python3.10/dist-packages (from faiss-cpu) (1.26.4)\n",
            "Requirement already satisfied: packaging in /usr/local/lib/python3.10/dist-packages (from faiss-cpu) (24.2)\n",
            "Downloading faiss_cpu-1.9.0.post1-cp310-cp310-manylinux_2_17_x86_64.manylinux2014_x86_64.whl (27.5 MB)\n",
            "\u001b[2K   \u001b[90m━━━━━━━━━━━━━━━━━━━━━━━━━━━━━━━━━━━━━━━━\u001b[0m \u001b[32m27.5/27.5 MB\u001b[0m \u001b[31m64.7 MB/s\u001b[0m eta \u001b[36m0:00:00\u001b[0m\n",
            "\u001b[?25hInstalling collected packages: faiss-cpu\n",
            "Successfully installed faiss-cpu-1.9.0.post1\n"
          ]
        }
      ]
    },
    {
      "cell_type": "markdown",
      "metadata": {
        "id": "6AxbijRECv8W"
      },
      "source": [
        "## FAISS"
      ]
    },
    {
      "cell_type": "markdown",
      "metadata": {
        "id": "y8rqbasrCv8W"
      },
      "source": [
        "> Необходимо сперва установить faiss библиотеку. Инструкцию можно найти [здесь](https://github.com/facebookresearch/faiss/blob/master/INSTALL.md).\n",
        "```conda install faiss-cpu -c pytorch # CPU version only```"
      ]
    },
    {
      "cell_type": "code",
      "execution_count": null,
      "metadata": {
        "id": "OoXrgNnqCv8W"
      },
      "outputs": [],
      "source": [
        "import numpy as np"
      ]
    },
    {
      "cell_type": "code",
      "execution_count": null,
      "metadata": {
        "id": "eO-5j5xGCv8X"
      },
      "outputs": [],
      "source": [
        "dim = 512  # рассмотрим произвольные векторы размерности 512\n",
        "nb = 10000  # количество векторов в индексе\n",
        "nq = 1 # количество векторов в выборке для поиска\n",
        "np.random.seed(58) # DON't CHANGE THIS\n",
        "vectors = np.random.random((nb, dim)).astype('float32')\n",
        "query = np.random.random((nq, dim)).astype('float32')"
      ]
    },
    {
      "cell_type": "code",
      "execution_count": null,
      "metadata": {
        "colab": {
          "base_uri": "https://localhost:8080/"
        },
        "id": "PvYLIAF2Cv8Y",
        "outputId": "37eb6eff-6d1b-48cc-d3a1-f542e651c837"
      },
      "outputs": [
        {
          "output_type": "execute_result",
          "data": {
            "text/plain": [
              "(10000, 512)"
            ]
          },
          "metadata": {},
          "execution_count": 6
        }
      ],
      "source": [
        "vectors.shape"
      ]
    },
    {
      "cell_type": "code",
      "execution_count": null,
      "metadata": {
        "colab": {
          "base_uri": "https://localhost:8080/"
        },
        "id": "LPIQ1bfMCv8Y",
        "outputId": "10a3d876-4e81-4f35-d2f3-636061a63878"
      },
      "outputs": [
        {
          "output_type": "execute_result",
          "data": {
            "text/plain": [
              "array([[0.36510557, 0.4512059 , 0.49606034, ..., 0.76589304, 0.00648978,\n",
              "        0.83173156],\n",
              "       [0.4488682 , 0.98864484, 0.9459802 , ..., 0.3300889 , 0.31562248,\n",
              "        0.37883386],\n",
              "       [0.85288   , 0.15087937, 0.48739725, ..., 0.4501739 , 0.6276719 ,\n",
              "        0.9150207 ],\n",
              "       ...,\n",
              "       [0.5569578 , 0.4969434 , 0.5190067 , ..., 0.04685995, 0.11529469,\n",
              "        0.6037052 ],\n",
              "       [0.9910725 , 0.42323965, 0.31499565, ..., 0.8129928 , 0.57980275,\n",
              "        0.84211975],\n",
              "       [0.33896688, 0.8154824 , 0.9685506 , ..., 0.32354274, 0.49578118,\n",
              "        0.55211055]], dtype=float32)"
            ]
          },
          "metadata": {},
          "execution_count": 7
        }
      ],
      "source": [
        "vectors"
      ]
    },
    {
      "cell_type": "markdown",
      "metadata": {
        "id": "0gd6T-xLCv8Y"
      },
      "source": [
        "### IndexFlatL2"
      ]
    },
    {
      "cell_type": "markdown",
      "metadata": {
        "id": "BxnGn70hCv8Y"
      },
      "source": [
        "Создаем Flat индекс и добавляем векторы без обучения"
      ]
    },
    {
      "cell_type": "code",
      "execution_count": null,
      "metadata": {
        "colab": {
          "base_uri": "https://localhost:8080/"
        },
        "id": "cgf92RyACv8Z",
        "outputId": "a3c12ba8-21b6-4ac8-e202-7f6e9ab19f7b"
      },
      "outputs": [
        {
          "output_type": "stream",
          "name": "stdout",
          "text": [
            "10000\n"
          ]
        }
      ],
      "source": [
        "import faiss\n",
        "\n",
        "\n",
        "index = faiss.IndexFlatL2(dim)\n",
        "index.add(vectors)\n",
        "print(index.ntotal)"
      ]
    },
    {
      "cell_type": "code",
      "source": [
        "topn = 7"
      ],
      "metadata": {
        "id": "EeHwSPZmEJSj"
      },
      "execution_count": null,
      "outputs": []
    },
    {
      "cell_type": "markdown",
      "metadata": {
        "id": "6MRe8MgbCv8Z"
      },
      "source": [
        "Проведем поиск по нашим векторам из query:"
      ]
    },
    {
      "cell_type": "code",
      "execution_count": null,
      "metadata": {
        "colab": {
          "base_uri": "https://localhost:8080/"
        },
        "id": "OKoOOFfPCv8Z",
        "outputId": "d94a777c-94bd-4746-82e3-54cfbbac12e5"
      },
      "outputs": [
        {
          "output_type": "stream",
          "name": "stdout",
          "text": [
            "[[3214 8794 9507 6591 8728 3959 5485]]\n",
            "[[70.10199  70.75224  72.443085 72.87785  72.94414  73.420784 73.75675 ]]\n",
            "CPU times: user 5.76 ms, sys: 0 ns, total: 5.76 ms\n",
            "Wall time: 4.56 ms\n"
          ]
        }
      ],
      "source": [
        "%%time\n",
        "\n",
        "D, I = index.search(query, topn)\n",
        "\n",
        "print(I)\n",
        "print(D)"
      ]
    },
    {
      "cell_type": "markdown",
      "metadata": {
        "id": "8kXF5CZGCv8Z"
      },
      "source": [
        "### Inverted File Index"
      ]
    },
    {
      "cell_type": "markdown",
      "metadata": {
        "id": "RFCoeiPGCv8Z"
      },
      "source": [
        "Необходмио создать quantiser(IndexFlatL2), индекс (IndexIVFFlat), обучить индекс и добавить вектора в индекс."
      ]
    },
    {
      "cell_type": "code",
      "execution_count": null,
      "metadata": {
        "colab": {
          "base_uri": "https://localhost:8080/"
        },
        "id": "zKkvwRtBCv8Z",
        "outputId": "d1aa7864-249f-43ed-8edc-e486160a3d0f"
      },
      "outputs": [
        {
          "output_type": "stream",
          "name": "stdout",
          "text": [
            "CPU times: user 234 ms, sys: 28.9 ms, total: 263 ms\n",
            "Wall time: 353 ms\n"
          ]
        }
      ],
      "source": [
        "%%time\n",
        "k = 10 # количество центроидов\n",
        "\n",
        "quantiser = faiss.IndexFlatL2(dim)\n",
        "index = faiss.IndexIVFFlat(quantiser, dim, k)\n",
        "index.train(vectors)\n",
        "index.add(vectors)"
      ]
    },
    {
      "cell_type": "markdown",
      "metadata": {
        "id": "16VaVaKxCv8a"
      },
      "source": [
        "Необходимо произвести поиск по индексу нашего запроса (query)."
      ]
    },
    {
      "cell_type": "code",
      "execution_count": null,
      "metadata": {
        "colab": {
          "base_uri": "https://localhost:8080/"
        },
        "id": "_XWlLGXCCv8a",
        "outputId": "c13e3fc0-073a-4995-b5f7-e08d305dbfea"
      },
      "outputs": [
        {
          "output_type": "stream",
          "name": "stdout",
          "text": [
            "[[9507 5485 9530 8678 7046 5314 3492]]\n",
            "[[72.443085 73.75675  74.077194 74.20973  75.07445  75.194534 75.362595]]\n",
            "CPU times: user 1.74 ms, sys: 38 µs, total: 1.78 ms\n",
            "Wall time: 1.42 ms\n"
          ]
        }
      ],
      "source": [
        "%%time\n",
        "\n",
        "D, I = index.search(query, topn)\n",
        "print(I)\n",
        "print(D)"
      ]
    },
    {
      "cell_type": "markdown",
      "metadata": {
        "id": "9gbMn4pCCv8a"
      },
      "source": [
        "## Применим FAISS для рекомендаций в нашей задаче"
      ]
    },
    {
      "cell_type": "markdown",
      "metadata": {
        "id": "qqErZMo5Cv8a"
      },
      "source": [
        "Построим простейший рекомендательный сервис."
      ]
    },
    {
      "cell_type": "code",
      "execution_count": null,
      "metadata": {
        "id": "xxXN8NFzCv8b"
      },
      "outputs": [],
      "source": [
        "import faiss\n",
        "import numpy as np\n",
        "import pandas as pd\n",
        "from scipy.sparse import coo_matrix\n",
        "from sklearn.decomposition import NMF\n",
        "from flask import Flask, jsonify, request\n",
        "\n",
        "# constants\n",
        "RANDOM_STATE = 57\n",
        "N_FACTOR = 20 # размерность эмбедингов\n",
        "N_RESULT = 10 # сколько фильмов рекомендуем"
      ]
    },
    {
      "cell_type": "code",
      "execution_count": null,
      "metadata": {
        "id": "sbbKrRwsCv8b"
      },
      "outputs": [],
      "source": [
        "ratings = pd.read_csv(\"ratings.csv\")\n",
        "movies = pd.read_csv(\"movies.csv\")"
      ]
    },
    {
      "cell_type": "code",
      "execution_count": null,
      "metadata": {
        "id": "WwXF3TIECv8b"
      },
      "outputs": [],
      "source": [
        "users = sorted(np.unique(ratings['userId']))\n",
        "movies = sorted(np.unique(ratings['movieId']))"
      ]
    },
    {
      "cell_type": "code",
      "execution_count": null,
      "metadata": {
        "id": "3CtfiIUjCv8b"
      },
      "outputs": [],
      "source": [
        "# for later use\n",
        "user_id2i = {id: i for i, id in enumerate(users)}\n",
        "movie_id2i = {id: i for i, id in enumerate(movies)}\n",
        "movie_i2id = {i: id for i, id in enumerate(movies)}"
      ]
    },
    {
      "cell_type": "code",
      "execution_count": null,
      "metadata": {
        "id": "pTmtg0C9Cv8b"
      },
      "outputs": [],
      "source": [
        "# make sparse matrix\n",
        "rating_mat = coo_matrix(\n",
        "    (ratings['rating'], (ratings['userId'].map(user_id2i), ratings['movieId'].map(movie_id2i)))\n",
        ")"
      ]
    },
    {
      "cell_type": "code",
      "execution_count": null,
      "metadata": {
        "colab": {
          "base_uri": "https://localhost:8080/"
        },
        "id": "Tc59DLl8Cv8b",
        "outputId": "9af71535-6f95-46b4-d094-8c5f091cc0d5"
      },
      "outputs": [
        {
          "output_type": "execute_result",
          "data": {
            "text/plain": [
              "matrix([[4. , 0. , 4. , ..., 0. , 0. , 0. ],\n",
              "        [0. , 0. , 0. , ..., 0. , 0. , 0. ],\n",
              "        [0. , 0. , 0. , ..., 0. , 0. , 0. ],\n",
              "        ...,\n",
              "        [2.5, 2. , 2. , ..., 0. , 0. , 0. ],\n",
              "        [3. , 0. , 0. , ..., 0. , 0. , 0. ],\n",
              "        [5. , 0. , 0. , ..., 0. , 0. , 0. ]])"
            ]
          },
          "metadata": {},
          "execution_count": 22
        }
      ],
      "source": [
        "rating_mat.todense()"
      ]
    },
    {
      "cell_type": "code",
      "execution_count": null,
      "metadata": {
        "colab": {
          "base_uri": "https://localhost:8080/"
        },
        "id": "h0Phi_jdCv8b",
        "outputId": "0e56b56d-af76-47db-d0df-461fe3da6aa5"
      },
      "outputs": [
        {
          "output_type": "stream",
          "name": "stderr",
          "text": [
            "/usr/local/lib/python3.10/dist-packages/sklearn/decomposition/_nmf.py:1741: ConvergenceWarning: Maximum number of iterations 200 reached. Increase it to improve convergence.\n",
            "  warnings.warn(\n"
          ]
        }
      ],
      "source": [
        "# decompose\n",
        "model = NMF(n_components=N_FACTOR, init='random', random_state=RANDOM_STATE)\n",
        "user_mat = model.fit_transform(rating_mat)\n",
        "movie_mat = model.components_.T"
      ]
    },
    {
      "cell_type": "markdown",
      "metadata": {
        "id": "3PtVvti0Cv8c"
      },
      "source": [
        "> **NMF** = Non-negative Matrix Factorization. Можно применять метод чередующихся наименьших квадратов (ALS) для неотрицательного матричного разложения. Ключевая идея - искать поочередно то столбцы $p_t$, то столбцы $q_t$ при фиксированных остальных."
      ]
    },
    {
      "cell_type": "code",
      "execution_count": null,
      "metadata": {
        "id": "84x8R7-WCv8c"
      },
      "outputs": [],
      "source": [
        "# indexing\n",
        "# movie_index = faiss.IndexFlatL2(N_FACTOR)\n",
        "\n",
        "\n",
        "k = 100 # количество центроидов\n",
        "# необходимо дописать методы\n",
        "quantiser = faiss.IndexFlatL2(N_FACTOR)\n",
        "movie_index = faiss.IndexIVFFlat(quantiser, N_FACTOR, k)\n",
        "movie_index.train(movie_mat.astype('float32'))\n",
        "movie_index.add(movie_mat.astype('float32'))"
      ]
    },
    {
      "cell_type": "code",
      "execution_count": null,
      "metadata": {
        "id": "rI9G5k7aCv8c"
      },
      "outputs": [],
      "source": [
        "# create app"
      ]
    },
    {
      "cell_type": "code",
      "execution_count": null,
      "metadata": {
        "id": "m8L-Qu2wCv8c"
      },
      "outputs": [],
      "source": [
        "\n",
        "def recom_for_user(user_i):\n",
        "    id = user_id2i[user_i]\n",
        "    user_vec = user_mat[id]\n",
        "    scores, indices = movie_index.search(np.array([user_vec]), N_RESULT)\n",
        "\n",
        "\n",
        "    movie_scores = zip(indices[0], scores[0])\n",
        "    for index, scr in movie_scores:\n",
        "      print(int(movie_i2id[index]))\n"
      ]
    },
    {
      "cell_type": "code",
      "source": [],
      "metadata": {
        "colab": {
          "base_uri": "https://localhost:8080/",
          "height": 141
        },
        "id": "5zfmW9MSKpKj",
        "outputId": "d5ec7b86-2b53-4b17-e451-b7d15b2c8d88"
      },
      "execution_count": null,
      "outputs": [
        {
          "output_type": "error",
          "ename": "NameError",
          "evalue": "name 'indices' is not defined",
          "traceback": [
            "\u001b[0;31m---------------------------------------------------------------------------\u001b[0m",
            "\u001b[0;31mNameError\u001b[0m                                 Traceback (most recent call last)",
            "\u001b[0;32m<ipython-input-57-e48decdcb3c1>\u001b[0m in \u001b[0;36m<cell line: 1>\u001b[0;34m()\u001b[0m\n\u001b[0;32m----> 1\u001b[0;31m \u001b[0mindices\u001b[0m\u001b[0;34m\u001b[0m\u001b[0;34m\u001b[0m\u001b[0m\n\u001b[0m",
            "\u001b[0;31mNameError\u001b[0m: name 'indices' is not defined"
          ]
        }
      ]
    },
    {
      "cell_type": "code",
      "execution_count": null,
      "metadata": {
        "colab": {
          "base_uri": "https://localhost:8080/"
        },
        "id": "fv_TXy2eCv8c",
        "outputId": "d6e64b41-9c4e-4320-db7a-2613a75f2a88"
      },
      "outputs": [
        {
          "output_type": "stream",
          "name": "stdout",
          "text": [
            "59985\n",
            "81512\n",
            "3225\n",
            "32302\n",
            "1675\n",
            "4453\n",
            "5580\n",
            "55020\n",
            "3103\n",
            "7377\n"
          ]
        }
      ],
      "source": [
        "recom_for_user(128)"
      ]
    },
    {
      "cell_type": "markdown",
      "metadata": {
        "id": "LS5QN9V8Cv8c"
      },
      "source": [
        "> Note: use this link in your browser to acccess your server: http://0.0.0.0:5000/?user_id=128"
      ]
    }
  ],
  "metadata": {
    "kernelspec": {
      "display_name": "Python 3",
      "name": "python3"
    },
    "language_info": {
      "codemirror_mode": {
        "name": "ipython",
        "version": 3
      },
      "file_extension": ".py",
      "mimetype": "text/x-python",
      "name": "python",
      "nbconvert_exporter": "python",
      "pygments_lexer": "ipython3",
      "version": "3.7.4"
    },
    "colab": {
      "provenance": [],
      "gpuType": "T4"
    },
    "accelerator": "GPU"
  },
  "nbformat": 4,
  "nbformat_minor": 0
}