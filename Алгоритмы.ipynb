{
  "nbformat": 4,
  "nbformat_minor": 0,
  "metadata": {
    "colab": {
      "provenance": []
    },
    "kernelspec": {
      "name": "python3",
      "display_name": "Python 3"
    },
    "language_info": {
      "name": "python"
    }
  },
  "cells": [
    {
      "cell_type": "markdown",
      "source": [
        "# Модуль 1. Часть 2."
      ],
      "metadata": {
        "id": "Muva5nNEHMhP"
      }
    },
    {
      "cell_type": "markdown",
      "source": [
        "# Списки и списочные выражения"
      ],
      "metadata": {
        "id": "1s4G2XsZtI2e"
      }
    },
    {
      "cell_type": "markdown",
      "source": [
        "**1 Алфавит**\n",
        "\n",
        "Напишите программу, выводящую следующий список:\n",
        "['a', 'bb', 'ccc', 'dddd', 'eeeee', 'ffffff', ...]\n",
        "Последний элемент списка должен состоять из 26 символов z."
      ],
      "metadata": {
        "id": "yFgjFMTmOwIm"
      }
    },
    {
      "cell_type": "code",
      "execution_count": null,
      "metadata": {
        "id": "7Ilkr7H8Ntaf",
        "colab": {
          "base_uri": "https://localhost:8080/"
        },
        "outputId": "a278b547-7669-4227-ce04-0d6198ce7bda"
      },
      "outputs": [
        {
          "output_type": "stream",
          "name": "stdout",
          "text": [
            "['a', 'bb', 'ccc', 'dddd', 'eeeee', 'ffffff', 'ggggggg', 'hhhhhhhh', 'iiiiiiiii', 'jjjjjjjjjj', 'kkkkkkkkkkk', 'llllllllllll', 'mmmmmmmmmmmmm', 'nnnnnnnnnnnnnn', 'ooooooooooooooo', 'pppppppppppppppp', 'qqqqqqqqqqqqqqqqq', 'rrrrrrrrrrrrrrrrrr', 'sssssssssssssssssss', 'tttttttttttttttttttt', 'uuuuuuuuuuuuuuuuuuuuu', 'vvvvvvvvvvvvvvvvvvvvvv', 'wwwwwwwwwwwwwwwwwwwwwww', 'xxxxxxxxxxxxxxxxxxxxxxxx', 'yyyyyyyyyyyyyyyyyyyyyyyyy', 'zzzzzzzzzzzzzzzzzzzzzzzzzz']\n"
          ]
        }
      ],
      "source": [
        "abc = 'abcdefghijklmnopqrstuvwxyz'\n",
        "\n",
        "result = [letter * (i + 1) for i, letter in enumerate(abc)]\n",
        "\n",
        "print(result)\n"
      ]
    },
    {
      "cell_type": "markdown",
      "source": [
        "**2 Без дубликатов**\n",
        "\n",
        "На вход программе подается натуральное число n, а затем n строк. Напишите программу, которая выводит только уникальные строки, в том же порядке, в котором они были введены."
      ],
      "metadata": {
        "id": "AwHhtY9tPFd1"
      }
    },
    {
      "cell_type": "code",
      "source": [
        "# #пример ввода\n",
        "\n",
        "# first\n",
        "# second\n",
        "# first\n",
        "# third\n",
        "# second\n",
        "\n",
        "# #ожидаемый вывод\n",
        "\n",
        "# first\n",
        "# second\n",
        "# third\n",
        "\n",
        "result = []\n",
        "n = int(input('Введите число n: '))\n",
        "for i in range(n):\n",
        "  string = input()\n",
        "  if string not in result:\n",
        "    result.append(string)\n",
        "print('Результат: ')\n",
        "for i in range(len(result)):\n",
        "  print(result[i])\n"
      ],
      "metadata": {
        "id": "KlvakqAoS_fM",
        "colab": {
          "base_uri": "https://localhost:8080/"
        },
        "outputId": "3dca5f1c-8e6b-47f8-a5c7-6db21a9b7fd4"
      },
      "execution_count": null,
      "outputs": [
        {
          "output_type": "stream",
          "name": "stdout",
          "text": [
            "Введите число n: 10\n",
            "2\n",
            "4\n",
            "2\n",
            "1\n",
            "6\n",
            "8\n",
            "6\n",
            "8\n",
            "0\n",
            "3\n",
            "Результат: \n",
            "2\n",
            "4\n",
            "1\n",
            "6\n",
            "8\n",
            "0\n",
            "3\n"
          ]
        }
      ]
    },
    {
      "cell_type": "markdown",
      "source": [
        "**3 Отрицательные, нули и положительные**\n",
        "\n",
        "На вход программе подается натуральное число n, а затем n целых чисел. Напишите программу, которая сначала выводит все отрицательные числа, затем нули, а затем все положительные числа, каждое на отдельной строке. Числа должны быть выведены в том же порядке, в котором они были введены."
      ],
      "metadata": {
        "id": "g3StLHXETMaM"
      }
    },
    {
      "cell_type": "code",
      "source": [
        "n = int(input('Введите число: '))\n",
        "numbers = []\n",
        "for i in range(n):\n",
        "  numbers.append(int(input('Введите целое число: ')))\n",
        "negative = []\n",
        "zero = []\n",
        "positive = []\n",
        "\n",
        "for num in numbers:\n",
        "    if num < 0:\n",
        "        negative.append(num)\n",
        "    elif num == 0:\n",
        "        zero.append(num)\n",
        "    else:\n",
        "        positive.append(num)\n",
        "\n",
        "for num in negative + zero + positive:\n",
        "    print(num)\n",
        "\n"
      ],
      "metadata": {
        "id": "LEo_D5yynf5H",
        "colab": {
          "base_uri": "https://localhost:8080/"
        },
        "outputId": "e4367698-3847-4093-becd-086578f1808a"
      },
      "execution_count": null,
      "outputs": [
        {
          "output_type": "stream",
          "name": "stdout",
          "text": [
            "Введите число: 3\n",
            "Введите целое число: 2\n",
            "Введите целое число: -1\n",
            "Введите целое число: 9\n",
            "-1\n",
            "2\n",
            "9\n"
          ]
        }
      ]
    },
    {
      "cell_type": "markdown",
      "source": [
        "**4 Более одного экземпляра**\n",
        "\n",
        "На вход программе подается строка, содержащая целые неотрицательные числа, разделенные пробелом. Напишите программу, которая выводит те числа, которые встречаются в данной последовательности более одного раза."
      ],
      "metadata": {
        "id": "vX9kg1vPe92X"
      }
    },
    {
      "cell_type": "code",
      "source": [
        "numbers = input('Введите целые неотрицательные числа, разделенные пробелом: ').split()\n",
        "\n",
        "result = {}\n",
        "\n",
        "for num in numbers:\n",
        "    num = int(num)\n",
        "    if num < 0:\n",
        "        print('Встретилось отрицательное число. Введите корректные числа.')\n",
        "        break\n",
        "    elif num not in result:\n",
        "        result[num] = 1\n",
        "    else:\n",
        "        result[num] += 1\n",
        "\n",
        "for num, count in result.items():\n",
        "    if count > 1:\n",
        "        print(f'Число {num} встречается {count} раз(а)')\n"
      ],
      "metadata": {
        "colab": {
          "base_uri": "https://localhost:8080/"
        },
        "id": "L-jhtidR1LjO",
        "outputId": "640b83b5-79b6-485c-88c0-d91995044d70"
      },
      "execution_count": null,
      "outputs": [
        {
          "output_type": "stream",
          "name": "stdout",
          "text": [
            "Введите целые неотрицательные числа, разделенные пробелом: 11 44 11 55 44 11 \n",
            "Число 11 встречается 3 раз(а)\n",
            "Число 44 встречается 2 раз(а)\n"
          ]
        }
      ]
    },
    {
      "cell_type": "markdown",
      "source": [
        "**5 Суммы соседних чисел**\n",
        "\n",
        "На вход программе подается натуральное число n, где n≥2. Затем поступают\n",
        "n целых чисел. Напишите программу, которая создает из указанных чисел список, состоящий из сумм соседних чисел (первого и второго, второго и третьего и т.д.)"
      ],
      "metadata": {
        "id": "RjaSu0con7uh"
      }
    },
    {
      "cell_type": "code",
      "source": [
        "n = int(input('Введите число: '))\n",
        "result = []\n",
        "if n < 2:\n",
        "  print('Некорректное число. Попробуйте заново')\n",
        "else:\n",
        "  temp = []\n",
        "  for i in range(n):\n",
        "    temp.append(int(input('Введите число: ')))\n",
        "  for i in range(n-1):\n",
        "    sum = temp[i]+ temp[i+1]\n",
        "    result.append(sum)\n",
        "print('Список, состоящий из сумм соседних чисел: ' ,result)\n",
        "\n",
        "\n"
      ],
      "metadata": {
        "id": "4-4wsEKpoPAe",
        "colab": {
          "base_uri": "https://localhost:8080/"
        },
        "outputId": "1bfa5649-2d7a-415a-c6b4-537d5d6dd217"
      },
      "execution_count": null,
      "outputs": [
        {
          "output_type": "stream",
          "name": "stdout",
          "text": [
            "Введите число: 5 \n",
            "Введите число: 1\n",
            "Введите число: 2\n",
            "Введите число: 3\n",
            "Введите число: 4\n",
            "Введите число: 5\n",
            "Список, состоящий из сумм соседних чисел:  [3, 5, 7, 9]\n"
          ]
        }
      ]
    },
    {
      "cell_type": "markdown",
      "source": [
        "**6 Переставить минимум и максимум**\n",
        "\n",
        "На вход программе подается строка текста, содержащая **различные** натуральные числа. Вам необходимо переставить максимальный и минимальный элементы местами и вывести измененную **строку**."
      ],
      "metadata": {
        "id": "xIyS47sVog6b"
      }
    },
    {
      "cell_type": "code",
      "source": [
        "numbers = input('Введите различные натуральные числа, через пробел: ').split()\n",
        "\n",
        "numbers = [num for num in numbers if num.lstrip('-').isdigit()]\n",
        "maximum = float('-inf')\n",
        "minimum = float('inf')\n",
        "indexmax = -1\n",
        "indexmin = -1\n",
        "\n",
        "for i, num in enumerate(numbers):\n",
        "    num = int(num)\n",
        "    if num > maximum:\n",
        "        maximum = num\n",
        "        indexmax = i\n",
        "    if num < minimum:\n",
        "        minimum = num\n",
        "        indexmin = i\n",
        "numbers[indexmin], numbers[indexmax] = maximum, minimum\n",
        "print('Конечный результат программы:', ', '.join(str(num) for num in numbers ))\n"
      ],
      "metadata": {
        "id": "wdoTdU_HotRm",
        "colab": {
          "base_uri": "https://localhost:8080/"
        },
        "outputId": "a7ff14af-eac8-4e53-8d5c-adef58f5b0bf"
      },
      "execution_count": null,
      "outputs": [
        {
          "output_type": "stream",
          "name": "stdout",
          "text": [
            "Введите различные натуральные числа, через пробел: 1 2 3 4 5 6 7 8 9 \n",
            "Конечный результат программы: 9, 2, 3, 4, 5, 6, 7, 8, 1\n"
          ]
        }
      ]
    },
    {
      "cell_type": "markdown",
      "source": [
        "**7 Количество артиклей**\n",
        "\n",
        "На вход программе подается строка, содержащая английский текст. Слова текста разделены символом пробела. Напишите программу, которая подсчитывает общее количество артиклей: 'a', 'an', 'the'. Артикли могут начинаться с заглавной буквы."
      ],
      "metadata": {
        "id": "Ec3Z5pTgpwbM"
      }
    },
    {
      "cell_type": "code",
      "source": [
        "s = input('Введите текст: ').lower().split(' ')\n",
        "answer = {}\n",
        "\n",
        "for char in s:\n",
        "  if char == 'a' or char == 'an' or char == 'the':\n",
        "    if char not in answer:\n",
        "      answer[char] = 1\n",
        "    else:\n",
        "      answer[char] += 1\n",
        "for char, count in answer.items():\n",
        "  print(f'Артиклей {char} встретилось в тексте {count} раз')\n",
        "\n"
      ],
      "metadata": {
        "colab": {
          "base_uri": "https://localhost:8080/"
        },
        "id": "E07dq6GgAvNq",
        "outputId": "ca6064ff-a796-4ce3-8b47-75163d66db92"
      },
      "execution_count": null,
      "outputs": [
        {
          "output_type": "stream",
          "name": "stdout",
          "text": [
            "Введите текст: William Shakespeare was born in the town of Stratford, England, in the year 1564. When he was a young man, Shakespeare moved to the city of London, where he began writing plays. His plays were soon very successful, and were enjoyed both by the common people of London and also by the rich and famous. In addition to his plays, Shakespeare wrote many short poems and a few longer poems. Like his plays, these poems are still famous today.\n",
            "Артиклей the встретилось в тексте 5 раз\n",
            "Артиклей a встретилось в тексте 2 раз\n"
          ]
        }
      ]
    },
    {
      "cell_type": "markdown",
      "source": [
        "**8 Группировка дубликатов**\n",
        "\n",
        "На вход программе подается строка текста, содержащая символы, разделенные пробелом. Напишите программу, которая упаковывает последовательности одинаковых символов заданной строки в подсписки."
      ],
      "metadata": {
        "id": "z35yq6B-VfUr"
      }
    },
    {
      "cell_type": "code",
      "source": [
        "s = input('Введите строку текста, разделенную пробелами: ').split()\n",
        "\n",
        "result = []\n",
        "current_group = [s[0]]\n",
        "\n",
        "for i in range(1, len(s)):\n",
        "    if s[i] == s[i - 1]:\n",
        "        current_group.append(s[i])\n",
        "    else:\n",
        "        result.append(current_group)\n",
        "        current_group = [s[i]]\n",
        "result.append(current_group)\n",
        "\n",
        "print(result)\n"
      ],
      "metadata": {
        "colab": {
          "base_uri": "https://localhost:8080/"
        },
        "id": "pWBB9wnoEGZO",
        "outputId": "17789601-fb2a-4ad1-f3f2-3f7358f43084"
      },
      "execution_count": null,
      "outputs": [
        {
          "output_type": "stream",
          "name": "stdout",
          "text": [
            "Введите строку текста, разделенную пробелами: 5 5 5 1 1 g w 6 6 1 8 h e e o 5 t t 2\n",
            "[['5', '5', '5'], ['1', '1'], ['g'], ['w'], ['6', '6'], ['1'], ['8'], ['h'], ['e', 'e'], ['o'], ['5'], ['t', 't'], ['2']]\n"
          ]
        }
      ]
    },
    {
      "cell_type": "code",
      "source": [
        "#пример ввода\n",
        "\n",
        "'5 5 5 1 1 g w 6 6 1 8 h e e o 5 t t 2'\n",
        "\n",
        "#ожидаемый вывод\n",
        "\n",
        "[['5', '5', '5'], ['1', '1'], ['g'], ['w'], ['6', '6'], ['1'], ['8'], ['h'], ['e', 'e'], ['o'], ['5'], ['t', 't'], ['2']]"
      ],
      "metadata": {
        "id": "P0x7PR7Ee2x4"
      },
      "execution_count": null,
      "outputs": []
    },
    {
      "cell_type": "markdown",
      "source": [
        "**9 Одной строкой_1**\n",
        "\n",
        "На вход программе подается строка текста. Напишите программу, использующую **списочное выражение**, которая выводит все цифровые символы данной строки."
      ],
      "metadata": {
        "id": "jbK1Xh4vqeTf"
      }
    },
    {
      "cell_type": "code",
      "source": [
        "#пример ввода\n",
        "\n",
        "'Число Pi примерно равно 3.1415'\n",
        "\n",
        "#ожидаемый вывод\n",
        "\n",
        "'12356'"
      ],
      "metadata": {
        "id": "VDnXi5Goornk"
      },
      "execution_count": null,
      "outputs": []
    },
    {
      "cell_type": "code",
      "source": [
        "s = input('Введите строку текста: ')\n",
        "digits = ''.join([char for char in s if char.isdigit()])\n",
        "print(digits)\n"
      ],
      "metadata": {
        "colab": {
          "base_uri": "https://localhost:8080/"
        },
        "id": "PlVu4pyiEgLT",
        "outputId": "a669404b-f88a-4578-8711-81e30a4629b1"
      },
      "execution_count": null,
      "outputs": [
        {
          "output_type": "stream",
          "name": "stdout",
          "text": [
            "Введите строку текста: Число Pi примерно равно 3.1415\n",
            "31415\n"
          ]
        }
      ]
    },
    {
      "cell_type": "markdown",
      "source": [
        "**10 Одной строкой_2**\n",
        "\n",
        "На вход программе подаётся строка текста, содержащая целые числа. Напишите программу, использующую **списочное выражение**, которая выведет квадраты чётных чисел, кроме тех квадратов, которые оканчиваются на цифру 4."
      ],
      "metadata": {
        "id": "0k-Juzd_rDuT"
      }
    },
    {
      "cell_type": "code",
      "source": [
        "s = input('Введите строку из чисел: ').split()\n",
        "\n",
        "numbers = [int(num)**2 for num in s if num.isdigit() and int(num) % 2 == 0 and (int(num)**2) % 10 != 4]\n",
        "\n",
        "print(' '.join(map(str, numbers)))\n"
      ],
      "metadata": {
        "id": "a4Dv8lLLrRmI",
        "colab": {
          "base_uri": "https://localhost:8080/"
        },
        "outputId": "c2fef731-89f5-44ac-d720-c19e46d58bef"
      },
      "execution_count": null,
      "outputs": [
        {
          "output_type": "stream",
          "name": "stdout",
          "text": [
            "Введите строку из чисел: 1 2 3 4 5 6 7 8 \n",
            "16 36\n"
          ]
        }
      ]
    },
    {
      "cell_type": "markdown",
      "source": [
        "# Можества"
      ],
      "metadata": {
        "id": "rCaNK5dwtN9F"
      }
    },
    {
      "cell_type": "markdown",
      "source": [
        "**11 Количество слов в тексте**\n",
        "\n",
        "Напишите программу для определения общего количества **различных** слов в строке текста без учета регистра.\n",
        "\n",
        "Примечания:\n",
        "\n",
        "* Словом считается последовательность непробельных символов, идущих подряд, слова разделены одним или большим числом пробелов.\n",
        "* Знаками препинания '.,;:-?!' пренебрегаем, других знаков в тексте не будет.\n",
        "\n"
      ],
      "metadata": {
        "id": "IVi7JepqtQ4N"
      }
    },
    {
      "cell_type": "code",
      "source": [
        "text = 'Snowflakes, snowflakes falling down. Snowflakes, covering up the ground. Making a blanket, soft and white. Making a blanket in the night.'\n",
        "\n",
        "\n",
        "import string\n",
        "text = text.lower()\n",
        "\n",
        "# Убираем знаки препинания\n",
        "text = text.translate(str.maketrans('', '', '.,;:-?!'))\n",
        "\n",
        "# Разбиваем строку на слова\n",
        "words = text.split()\n",
        "unique_words = set(words)\n",
        "print(f'Количество различных слов: {len(unique_words)}')\n"
      ],
      "metadata": {
        "id": "XbMD8Mw1ttFv",
        "colab": {
          "base_uri": "https://localhost:8080/"
        },
        "outputId": "d8268768-4bc6-410a-a36b-9042f04932f3"
      },
      "execution_count": null,
      "outputs": [
        {
          "output_type": "stream",
          "name": "stdout",
          "text": [
            "Количество различных слов: 15\n"
          ]
        }
      ]
    },
    {
      "cell_type": "markdown",
      "source": [
        "**12 Оригиналы и дубликаты**\n",
        "\n",
        "На вход программе подается строка текста, содержащая числа. Для каждого числа выведите слово YES, если это число ранее встречалось в последовательности или NO, если не встречалось.\n",
        "\n",
        "**Примечание.** Ведущие нули в числах должны игнорироваться."
      ],
      "metadata": {
        "id": "_o19ixjnt5kI"
      }
    },
    {
      "cell_type": "code",
      "source": [
        "#пример ввода\n",
        "\n",
        "'1 2 3 002 03 4 5 05'\n",
        "\n",
        "#ожидаемый вывод\n",
        "\n",
        "'NO NO NO YES YES NO NO YES'"
      ],
      "metadata": {
        "id": "CbE1jhAJuiWd"
      },
      "execution_count": null,
      "outputs": []
    },
    {
      "cell_type": "code",
      "source": [
        "numbers = input('Введите последовательность чисел, разделенных пробелами: ').split()\n",
        "seen_numbers = set()\n",
        "for num in numbers:\n",
        "    normalized_num = str(int(num))\n",
        "\n",
        "    if normalized_num in seen_numbers:\n",
        "        print(\"YES\")\n",
        "    else:\n",
        "        print(\"NO\")\n",
        "        seen_numbers.add(normalized_num)\n"
      ],
      "metadata": {
        "colab": {
          "base_uri": "https://localhost:8080/"
        },
        "id": "bERm0wYRH8uS",
        "outputId": "acfdb758-4cd1-418d-8920-ee0c282bfafc"
      },
      "execution_count": null,
      "outputs": [
        {
          "output_type": "stream",
          "name": "stdout",
          "text": [
            "Введите последовательность чисел, разделенных пробелами: 1 2 3 002 03 4 5 05\n",
            "NO\n",
            "NO\n",
            "NO\n",
            "YES\n",
            "YES\n",
            "NO\n",
            "NO\n",
            "YES\n"
          ]
        }
      ]
    },
    {
      "cell_type": "code",
      "source": [],
      "metadata": {
        "id": "QyJ9ERuiH-q1"
      },
      "execution_count": null,
      "outputs": []
    }
  ]
}