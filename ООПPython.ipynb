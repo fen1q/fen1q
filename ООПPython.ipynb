{
  "nbformat": 4,
  "nbformat_minor": 0,
  "metadata": {
    "colab": {
      "provenance": []
    },
    "kernelspec": {
      "name": "python3",
      "display_name": "Python 3"
    },
    "language_info": {
      "name": "python"
    }
  },
  "cells": [
    {
      "cell_type": "code",
      "source": [
        "class User:\n",
        "    name = ''\n",
        "    email = ''\n",
        "    approved_by = ''\n",
        "\n",
        "    def __init__(self, name, email):\n",
        "        self.name = name\n",
        "        self.email = email\n",
        "\n",
        "    def show(self):\n",
        "        print('Name: ', self.name)\n",
        "        print('Email: ', self.email)\n",
        "        print('Approved by: ', self.approved_by)\n",
        "\n",
        "\n",
        "class AdminUser(User):\n",
        "    def __init__(self, name, email):\n",
        "\n",
        "        super().__init__(name, email)\n",
        "        self.approved_by = 'admin'\n",
        "\n",
        "    def approve(self, user:User):\n",
        "        user.approved_by = self.name\n",
        "class RegularUser(User):\n",
        "    def __init__(self, name, email):\n",
        "        super().__init__(name, email)\n",
        "        self.approved_by = 'pending'\n",
        "\n",
        "    def update_info(self, new_name=None, new_email=None):\n",
        "        \"\"\"Метод для обновления личной информации\"\"\"\n",
        "        if new_name:\n",
        "            self.name = new_name\n",
        "            print(f\"Имя успешно обновлено на {self.name}.\")\n",
        "        if new_email:\n",
        "            self.email = new_email\n",
        "            print(f\"Email успешно обновлен на {self.email}.\")\n",
        "\n",
        "    def request_approval(self, admin: AdminUser):\n",
        "        \"\"\"Метод для отправки запроса на одобрение администратору\"\"\"\n",
        "        if self.approved_by == 'pending':\n",
        "            print(f\"{self.name} запрашивает одобрение у {admin.name}.\")\n",
        "        else:\n",
        "            print(f\"{self.name} уже был одобрен {self.approved_by}.\")\n",
        "\n",
        "    def check_approval_status(self):\n",
        "        \"\"\"Метод для проверки, был ли пользователь одобрен\"\"\"\n",
        "        if self.approved_by == 'pending':\n",
        "            print(f\"Пользователь {self.name} пока не одобрен.\")\n",
        "        else:\n",
        "            print(f\"Пользователь {self.name} был одобрен {self.approved_by}.\")\n",
        "\n",
        "\n",
        "\n"
      ],
      "metadata": {
        "id": "jVWLM5e9Ckla"
      },
      "execution_count": null,
      "outputs": []
    },
    {
      "cell_type": "code",
      "source": [
        "user = User('aleks', 'mail@alex.com')\n",
        "admin = AdminUser('ivan', 'mail@ivan.com')"
      ],
      "metadata": {
        "id": "e0dFW8xWClVY"
      },
      "execution_count": null,
      "outputs": []
    },
    {
      "cell_type": "code",
      "source": [
        "admin.approve(user)"
      ],
      "metadata": {
        "id": "qMnplYtMCnPO"
      },
      "execution_count": null,
      "outputs": []
    },
    {
      "cell_type": "code",
      "source": [
        "user.show()"
      ],
      "metadata": {
        "colab": {
          "base_uri": "https://localhost:8080/"
        },
        "id": "NcTfJlJ0CoZh",
        "outputId": "7dfc7546-0a8b-498f-ca39-0e4faa2bb34c"
      },
      "execution_count": null,
      "outputs": [
        {
          "output_type": "stream",
          "name": "stdout",
          "text": [
            "Name:  aleks\n",
            "Email:  mail@alex.com\n",
            "Approved by:  ivan\n"
          ]
        }
      ]
    },
    {
      "cell_type": "code",
      "source": [
        "\n",
        "admin = AdminUser(\"Admin\", \"admin@example.com\")\n",
        "user1 = RegularUser(\"John\", \"john@example.com\")\n",
        "\n",
        "\n",
        "\n",
        "user1.check_approval_status()\n",
        "\n",
        "user1.request_approval(admin)\n",
        "\n",
        "admin.approve(user1)\n",
        "\n",
        "user1.check_approval_status()\n"
      ],
      "metadata": {
        "colab": {
          "base_uri": "https://localhost:8080/"
        },
        "id": "NxrXxIxzCtmj",
        "outputId": "bbd86542-6323-4176-e026-39064ef5b795"
      },
      "execution_count": null,
      "outputs": [
        {
          "output_type": "stream",
          "name": "stdout",
          "text": [
            "Пользователь John пока не одобрен.\n",
            "John запрашивает одобрение у Admin.\n",
            "Пользователь John был одобрен Admin.\n"
          ]
        }
      ]
    },
    {
      "cell_type": "code",
      "source": [
        "user1.update_info(new_name=\"John Doe\", new_email=\"john.doe@example.com\")"
      ],
      "metadata": {
        "colab": {
          "base_uri": "https://localhost:8080/"
        },
        "id": "iYTppMUjDj5Y",
        "outputId": "02072bb1-a024-43b6-c96d-e2762fcdaf70"
      },
      "execution_count": null,
      "outputs": [
        {
          "output_type": "stream",
          "name": "stdout",
          "text": [
            "Имя успешно обновлено на John Doe.\n",
            "Email успешно обновлен на john.doe@example.com.\n"
          ]
        }
      ]
    },
    {
      "cell_type": "code",
      "source": [],
      "metadata": {
        "id": "scfitOX1D1Wf"
      },
      "execution_count": null,
      "outputs": []
    }
  ]
}