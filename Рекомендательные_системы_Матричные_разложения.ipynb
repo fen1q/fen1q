{
  "cells": [
    {
      "cell_type": "markdown",
      "metadata": {
        "id": "nN2flelV7SvP"
      },
      "source": [
        "# Рекомендательные системы. Матричные разложения"
      ]
    },
    {
      "cell_type": "code",
      "execution_count": null,
      "metadata": {
        "id": "Kf0ByzJ_7SvR"
      },
      "outputs": [],
      "source": [
        "import pandas as pd\n",
        "import numpy as np\n",
        "import random\n",
        "from sklearn.model_selection import train_test_split"
      ]
    },
    {
      "cell_type": "markdown",
      "metadata": {
        "id": "t9FKhzdn7SvS"
      },
      "source": [
        "\n",
        "## Load dataset"
      ]
    },
    {
      "cell_type": "markdown",
      "metadata": {
        "id": "0cpGCUf27SvS"
      },
      "source": [
        "Мы будем использовать тот же датасет из прошлого урока - MovieLens."
      ]
    },
    {
      "cell_type": "code",
      "execution_count": null,
      "metadata": {
        "id": "VN5MxsHi7SvT"
      },
      "outputs": [],
      "source": [
        "df_ratings = pd.read_csv(\"ratings.csv\")\n",
        "df_movies = pd.read_csv(\"movies.csv\")"
      ]
    },
    {
      "cell_type": "code",
      "execution_count": null,
      "metadata": {
        "id": "yhIlXReQ7SvT",
        "outputId": "1a851745-78f5-4c5b-ab94-7b316e961eed"
      },
      "outputs": [
        {
          "data": {
            "text/html": [
              "<div>\n",
              "<style scoped>\n",
              "    .dataframe tbody tr th:only-of-type {\n",
              "        vertical-align: middle;\n",
              "    }\n",
              "\n",
              "    .dataframe tbody tr th {\n",
              "        vertical-align: top;\n",
              "    }\n",
              "\n",
              "    .dataframe thead th {\n",
              "        text-align: right;\n",
              "    }\n",
              "</style>\n",
              "<table border=\"1\" class=\"dataframe\">\n",
              "  <thead>\n",
              "    <tr style=\"text-align: right;\">\n",
              "      <th></th>\n",
              "      <th>userId</th>\n",
              "      <th>movieId</th>\n",
              "      <th>rating</th>\n",
              "      <th>timestamp</th>\n",
              "    </tr>\n",
              "  </thead>\n",
              "  <tbody>\n",
              "    <tr>\n",
              "      <td>0</td>\n",
              "      <td>1</td>\n",
              "      <td>1</td>\n",
              "      <td>4.0</td>\n",
              "      <td>964982703</td>\n",
              "    </tr>\n",
              "    <tr>\n",
              "      <td>1</td>\n",
              "      <td>1</td>\n",
              "      <td>3</td>\n",
              "      <td>4.0</td>\n",
              "      <td>964981247</td>\n",
              "    </tr>\n",
              "    <tr>\n",
              "      <td>2</td>\n",
              "      <td>1</td>\n",
              "      <td>6</td>\n",
              "      <td>4.0</td>\n",
              "      <td>964982224</td>\n",
              "    </tr>\n",
              "    <tr>\n",
              "      <td>3</td>\n",
              "      <td>1</td>\n",
              "      <td>47</td>\n",
              "      <td>5.0</td>\n",
              "      <td>964983815</td>\n",
              "    </tr>\n",
              "    <tr>\n",
              "      <td>4</td>\n",
              "      <td>1</td>\n",
              "      <td>50</td>\n",
              "      <td>5.0</td>\n",
              "      <td>964982931</td>\n",
              "    </tr>\n",
              "  </tbody>\n",
              "</table>\n",
              "</div>"
            ],
            "text/plain": [
              "   userId  movieId  rating  timestamp\n",
              "0       1        1     4.0  964982703\n",
              "1       1        3     4.0  964981247\n",
              "2       1        6     4.0  964982224\n",
              "3       1       47     5.0  964983815\n",
              "4       1       50     5.0  964982931"
            ]
          },
          "execution_count": 4,
          "metadata": {},
          "output_type": "execute_result"
        }
      ],
      "source": [
        "df_ratings.head()"
      ]
    },
    {
      "cell_type": "code",
      "execution_count": null,
      "metadata": {
        "id": "yr5oqL9y7SvT",
        "outputId": "4675f889-cf49-4b1c-905a-28eeb87843e2"
      },
      "outputs": [
        {
          "data": {
            "text/html": [
              "<div>\n",
              "<style scoped>\n",
              "    .dataframe tbody tr th:only-of-type {\n",
              "        vertical-align: middle;\n",
              "    }\n",
              "\n",
              "    .dataframe tbody tr th {\n",
              "        vertical-align: top;\n",
              "    }\n",
              "\n",
              "    .dataframe thead th {\n",
              "        text-align: right;\n",
              "    }\n",
              "</style>\n",
              "<table border=\"1\" class=\"dataframe\">\n",
              "  <thead>\n",
              "    <tr style=\"text-align: right;\">\n",
              "      <th></th>\n",
              "      <th>movieId</th>\n",
              "      <th>title</th>\n",
              "      <th>genres</th>\n",
              "    </tr>\n",
              "  </thead>\n",
              "  <tbody>\n",
              "    <tr>\n",
              "      <td>0</td>\n",
              "      <td>1</td>\n",
              "      <td>Toy Story (1995)</td>\n",
              "      <td>Adventure|Animation|Children|Comedy|Fantasy</td>\n",
              "    </tr>\n",
              "    <tr>\n",
              "      <td>1</td>\n",
              "      <td>2</td>\n",
              "      <td>Jumanji (1995)</td>\n",
              "      <td>Adventure|Children|Fantasy</td>\n",
              "    </tr>\n",
              "    <tr>\n",
              "      <td>2</td>\n",
              "      <td>3</td>\n",
              "      <td>Grumpier Old Men (1995)</td>\n",
              "      <td>Comedy|Romance</td>\n",
              "    </tr>\n",
              "    <tr>\n",
              "      <td>3</td>\n",
              "      <td>4</td>\n",
              "      <td>Waiting to Exhale (1995)</td>\n",
              "      <td>Comedy|Drama|Romance</td>\n",
              "    </tr>\n",
              "    <tr>\n",
              "      <td>4</td>\n",
              "      <td>5</td>\n",
              "      <td>Father of the Bride Part II (1995)</td>\n",
              "      <td>Comedy</td>\n",
              "    </tr>\n",
              "  </tbody>\n",
              "</table>\n",
              "</div>"
            ],
            "text/plain": [
              "   movieId                               title  \\\n",
              "0        1                    Toy Story (1995)   \n",
              "1        2                      Jumanji (1995)   \n",
              "2        3             Grumpier Old Men (1995)   \n",
              "3        4            Waiting to Exhale (1995)   \n",
              "4        5  Father of the Bride Part II (1995)   \n",
              "\n",
              "                                        genres  \n",
              "0  Adventure|Animation|Children|Comedy|Fantasy  \n",
              "1                   Adventure|Children|Fantasy  \n",
              "2                               Comedy|Romance  \n",
              "3                         Comedy|Drama|Romance  \n",
              "4                                       Comedy  "
            ]
          },
          "execution_count": 5,
          "metadata": {},
          "output_type": "execute_result"
        }
      ],
      "source": [
        "df_movies.head()"
      ]
    },
    {
      "cell_type": "markdown",
      "metadata": {
        "id": "y1R6l6Fq7SvU"
      },
      "source": [
        "### SVD"
      ]
    },
    {
      "cell_type": "code",
      "execution_count": null,
      "metadata": {
        "id": "_S_tOVvx7SvU"
      },
      "outputs": [],
      "source": [
        "from scipy.linalg import svd"
      ]
    },
    {
      "cell_type": "code",
      "execution_count": null,
      "metadata": {
        "id": "2MzmuX0g7SvU",
        "outputId": "79b8e994-ca9a-407a-b3f0-a7bbb6f0447b"
      },
      "outputs": [
        {
          "name": "stdout",
          "output_type": "stream",
          "text": [
            "[[1 2]\n",
            " [3 4]\n",
            " [5 6]]\n"
          ]
        }
      ],
      "source": [
        "# define a matrix\n",
        "A = np.array([[1, 2], [3, 4], [5, 6]]) #np.nan\n",
        "print(A)"
      ]
    },
    {
      "cell_type": "code",
      "execution_count": null,
      "metadata": {
        "id": "c6PxtQT_7SvU",
        "outputId": "4d8bc2ff-b974-4990-e37c-b00aa2f73eea"
      },
      "outputs": [
        {
          "name": "stdout",
          "output_type": "stream",
          "text": [
            "Unitary matrix having left singular vectors as columns: \n",
            " [[-0.2298477   0.88346102  0.40824829]\n",
            " [-0.52474482  0.24078249 -0.81649658]\n",
            " [-0.81964194 -0.40189603  0.40824829]]\n",
            "Singular values: \n",
            " [9.52551809 0.51430058]\n",
            "Unitary matrix having right singular vectors as rows: \n",
            " [[-0.61962948 -0.78489445]\n",
            " [-0.78489445  0.61962948]]\n"
          ]
        }
      ],
      "source": [
        "# SVD\n",
        "U, s, VT = svd(A) # Factorizes the matrix a into two unitary matrices U and VT, and a 1-D array s of singular values (real, non-negative) such that a == U @ S @ Vh, where S is a suitably shaped matrix of zeros with main diagonal s\n",
        "print(\"Unitary matrix having left singular vectors as columns: \\n\", U) # U*s is the length of projections on the axes (by columns)\n",
        "print(\"Singular values: \\n\", s) # this is diagonal matrix with sigmas on the diagonal (closeness to tthe axes)\n",
        "print(\"Unitary matrix having right singular vectors as rows: \\n\", VT) # ortogonal basis of the projection"
      ]
    },
    {
      "cell_type": "code",
      "execution_count": null,
      "metadata": {
        "id": "vhRgIWk87SvU",
        "outputId": "f72c6148-3810-4c57-ac16-4bdfc85f504b"
      },
      "outputs": [
        {
          "name": "stdout",
          "output_type": "stream",
          "text": [
            "Reconstructed matrix: \n",
            " [[1. 2.]\n",
            " [3. 4.]\n",
            " [5. 6.]]\n"
          ]
        }
      ],
      "source": [
        "m, n = A.shape[0], A.shape[1]\n",
        "\n",
        "sigma = np.zeros((m, n))\n",
        "for i in range(min(m, n)):\n",
        "    sigma[i, i] = s[i]\n",
        "A_rec = np.dot(np.dot(U,sigma), VT)\n",
        "print(\"Reconstructed matrix: \\n\", A_rec)"
      ]
    },
    {
      "cell_type": "markdown",
      "metadata": {
        "id": "lCi3S6Yd7SvV"
      },
      "source": [
        "## Train/Test split"
      ]
    },
    {
      "cell_type": "code",
      "execution_count": null,
      "metadata": {
        "id": "pX4AgM6k7SvV"
      },
      "outputs": [],
      "source": [
        "import scipy.sparse as sp\n",
        "from scipy import sparse\n",
        "from scipy.sparse.linalg import spsolve"
      ]
    },
    {
      "cell_type": "code",
      "execution_count": null,
      "metadata": {
        "id": "Otg64ws27SvV"
      },
      "outputs": [],
      "source": [
        "user_item_matrix = df_ratings.pivot_table(index=['userId'], columns=['movieId'], values='rating')\n",
        "# Contruct a sparse matrix for our users and items containing number of plays\n",
        "sparse_ui= sp.csr_matrix(user_item_matrix)"
      ]
    },
    {
      "cell_type": "code",
      "execution_count": null,
      "metadata": {
        "colab": {
          "base_uri": "https://localhost:8080/"
        },
        "id": "SCvD98rc7SvV",
        "outputId": "d460ff71-80bf-4139-9742-8d727e6aa420"
      },
      "outputs": [
        {
          "output_type": "execute_result",
          "data": {
            "text/plain": [
              "matrix([[4. , nan, 4. , ..., nan, nan, nan],\n",
              "        [nan, nan, nan, ..., nan, nan, nan],\n",
              "        [nan, nan, nan, ..., nan, nan, nan],\n",
              "        ...,\n",
              "        [2.5, 2. , 2. , ..., nan, nan, nan],\n",
              "        [3. , nan, nan, ..., nan, nan, nan],\n",
              "        [5. , nan, nan, ..., nan, nan, nan]])"
            ]
          },
          "metadata": {},
          "execution_count": 19
        }
      ],
      "source": [
        "sparse_ui.todense()"
      ]
    },
    {
      "cell_type": "code",
      "execution_count": null,
      "metadata": {
        "id": "rDa6CeY57SvV"
      },
      "outputs": [],
      "source": [
        "X_train, X_test = train_test_split(sparse_ui, test_size = 0.25, random_state=57)\n",
        "ind_train, ind_test = train_test_split(user_item_matrix, test_size = 0.25, random_state=57)"
      ]
    },
    {
      "cell_type": "code",
      "execution_count": null,
      "metadata": {
        "colab": {
          "base_uri": "https://localhost:8080/"
        },
        "id": "1ccqMMz77SvV",
        "outputId": "deaf7b19-cf8d-41e5-aa36-84aee39a0a23"
      },
      "outputs": [
        {
          "output_type": "stream",
          "name": "stderr",
          "text": [
            "<ipython-input-21-45306e47ae90>:3: FutureWarning: ChainedAssignmentError: behaviour will change in pandas 3.0!\n",
            "You are setting values through chained assignment. Currently this works in certain cases, but when using Copy-on-Write (which will become the default behaviour in pandas 3.0) this will never work to update the original DataFrame or Series, because the intermediate object on which we are setting values will behave as a copy.\n",
            "A typical example is when you are setting values in a column of a DataFrame, like:\n",
            "\n",
            "df[\"col\"][row_indexer] = value\n",
            "\n",
            "Use `df.loc[row_indexer, \"col\"] = values` instead, to perform the assignment in a single step and ensure this keeps updating the original `df`.\n",
            "\n",
            "See the caveats in the documentation: https://pandas.pydata.org/pandas-docs/stable/user_guide/indexing.html#returning-a-view-versus-a-copy\n",
            "\n",
            "  X_res.loc[i]['actual'] = list(set(ind_train.loc[i][ind_train.loc[i].notnull()].index))\n"
          ]
        }
      ],
      "source": [
        "X_res = pd.DataFrame(index=ind_train.index, data=[], columns=['actual'])\n",
        "for i in X_res.index:\n",
        "    X_res.loc[i]['actual'] = list(set(ind_train.loc[i][ind_train.loc[i].notnull()].index))"
      ]
    },
    {
      "cell_type": "code",
      "execution_count": null,
      "metadata": {
        "colab": {
          "base_uri": "https://localhost:8080/",
          "height": 237
        },
        "id": "8AiqFalC7SvV",
        "outputId": "bf1e73d5-bb1a-4704-876d-fd6faa49fbd9"
      },
      "outputs": [
        {
          "output_type": "execute_result",
          "data": {
            "text/plain": [
              "                                                   actual\n",
              "userId                                                   \n",
              "575     [2560, 2436, 2566, 2567, 2568, 2571, 2572, 257...\n",
              "323     [1, 2, 2571, 1037, 527, 17, 19, 22, 110102, 29...\n",
              "14      [4, 7, 266, 524, 527, 784, 19, 150, 153, 25, 2...\n",
              "496     [4993, 111362, 2950, 904, 104841, 912, 84374, ...\n",
              "531     [4993, 260, 10, 1291, 919, 1961, 2473, 1198, 1..."
            ],
            "text/html": [
              "\n",
              "  <div id=\"df-15bf5e26-8d92-4b50-ac3d-b03e2d3597bf\" class=\"colab-df-container\">\n",
              "    <div>\n",
              "<style scoped>\n",
              "    .dataframe tbody tr th:only-of-type {\n",
              "        vertical-align: middle;\n",
              "    }\n",
              "\n",
              "    .dataframe tbody tr th {\n",
              "        vertical-align: top;\n",
              "    }\n",
              "\n",
              "    .dataframe thead th {\n",
              "        text-align: right;\n",
              "    }\n",
              "</style>\n",
              "<table border=\"1\" class=\"dataframe\">\n",
              "  <thead>\n",
              "    <tr style=\"text-align: right;\">\n",
              "      <th></th>\n",
              "      <th>actual</th>\n",
              "    </tr>\n",
              "    <tr>\n",
              "      <th>userId</th>\n",
              "      <th></th>\n",
              "    </tr>\n",
              "  </thead>\n",
              "  <tbody>\n",
              "    <tr>\n",
              "      <th>575</th>\n",
              "      <td>[2560, 2436, 2566, 2567, 2568, 2571, 2572, 257...</td>\n",
              "    </tr>\n",
              "    <tr>\n",
              "      <th>323</th>\n",
              "      <td>[1, 2, 2571, 1037, 527, 17, 19, 22, 110102, 29...</td>\n",
              "    </tr>\n",
              "    <tr>\n",
              "      <th>14</th>\n",
              "      <td>[4, 7, 266, 524, 527, 784, 19, 150, 153, 25, 2...</td>\n",
              "    </tr>\n",
              "    <tr>\n",
              "      <th>496</th>\n",
              "      <td>[4993, 111362, 2950, 904, 104841, 912, 84374, ...</td>\n",
              "    </tr>\n",
              "    <tr>\n",
              "      <th>531</th>\n",
              "      <td>[4993, 260, 10, 1291, 919, 1961, 2473, 1198, 1...</td>\n",
              "    </tr>\n",
              "  </tbody>\n",
              "</table>\n",
              "</div>\n",
              "    <div class=\"colab-df-buttons\">\n",
              "\n",
              "  <div class=\"colab-df-container\">\n",
              "    <button class=\"colab-df-convert\" onclick=\"convertToInteractive('df-15bf5e26-8d92-4b50-ac3d-b03e2d3597bf')\"\n",
              "            title=\"Convert this dataframe to an interactive table.\"\n",
              "            style=\"display:none;\">\n",
              "\n",
              "  <svg xmlns=\"http://www.w3.org/2000/svg\" height=\"24px\" viewBox=\"0 -960 960 960\">\n",
              "    <path d=\"M120-120v-720h720v720H120Zm60-500h600v-160H180v160Zm220 220h160v-160H400v160Zm0 220h160v-160H400v160ZM180-400h160v-160H180v160Zm440 0h160v-160H620v160ZM180-180h160v-160H180v160Zm440 0h160v-160H620v160Z\"/>\n",
              "  </svg>\n",
              "    </button>\n",
              "\n",
              "  <style>\n",
              "    .colab-df-container {\n",
              "      display:flex;\n",
              "      gap: 12px;\n",
              "    }\n",
              "\n",
              "    .colab-df-convert {\n",
              "      background-color: #E8F0FE;\n",
              "      border: none;\n",
              "      border-radius: 50%;\n",
              "      cursor: pointer;\n",
              "      display: none;\n",
              "      fill: #1967D2;\n",
              "      height: 32px;\n",
              "      padding: 0 0 0 0;\n",
              "      width: 32px;\n",
              "    }\n",
              "\n",
              "    .colab-df-convert:hover {\n",
              "      background-color: #E2EBFA;\n",
              "      box-shadow: 0px 1px 2px rgba(60, 64, 67, 0.3), 0px 1px 3px 1px rgba(60, 64, 67, 0.15);\n",
              "      fill: #174EA6;\n",
              "    }\n",
              "\n",
              "    .colab-df-buttons div {\n",
              "      margin-bottom: 4px;\n",
              "    }\n",
              "\n",
              "    [theme=dark] .colab-df-convert {\n",
              "      background-color: #3B4455;\n",
              "      fill: #D2E3FC;\n",
              "    }\n",
              "\n",
              "    [theme=dark] .colab-df-convert:hover {\n",
              "      background-color: #434B5C;\n",
              "      box-shadow: 0px 1px 3px 1px rgba(0, 0, 0, 0.15);\n",
              "      filter: drop-shadow(0px 1px 2px rgba(0, 0, 0, 0.3));\n",
              "      fill: #FFFFFF;\n",
              "    }\n",
              "  </style>\n",
              "\n",
              "    <script>\n",
              "      const buttonEl =\n",
              "        document.querySelector('#df-15bf5e26-8d92-4b50-ac3d-b03e2d3597bf button.colab-df-convert');\n",
              "      buttonEl.style.display =\n",
              "        google.colab.kernel.accessAllowed ? 'block' : 'none';\n",
              "\n",
              "      async function convertToInteractive(key) {\n",
              "        const element = document.querySelector('#df-15bf5e26-8d92-4b50-ac3d-b03e2d3597bf');\n",
              "        const dataTable =\n",
              "          await google.colab.kernel.invokeFunction('convertToInteractive',\n",
              "                                                    [key], {});\n",
              "        if (!dataTable) return;\n",
              "\n",
              "        const docLinkHtml = 'Like what you see? Visit the ' +\n",
              "          '<a target=\"_blank\" href=https://colab.research.google.com/notebooks/data_table.ipynb>data table notebook</a>'\n",
              "          + ' to learn more about interactive tables.';\n",
              "        element.innerHTML = '';\n",
              "        dataTable['output_type'] = 'display_data';\n",
              "        await google.colab.output.renderOutput(dataTable, element);\n",
              "        const docLink = document.createElement('div');\n",
              "        docLink.innerHTML = docLinkHtml;\n",
              "        element.appendChild(docLink);\n",
              "      }\n",
              "    </script>\n",
              "  </div>\n",
              "\n",
              "\n",
              "<div id=\"df-1e3f1f46-5c1a-491a-a03d-2eb8fb98485a\">\n",
              "  <button class=\"colab-df-quickchart\" onclick=\"quickchart('df-1e3f1f46-5c1a-491a-a03d-2eb8fb98485a')\"\n",
              "            title=\"Suggest charts\"\n",
              "            style=\"display:none;\">\n",
              "\n",
              "<svg xmlns=\"http://www.w3.org/2000/svg\" height=\"24px\"viewBox=\"0 0 24 24\"\n",
              "     width=\"24px\">\n",
              "    <g>\n",
              "        <path d=\"M19 3H5c-1.1 0-2 .9-2 2v14c0 1.1.9 2 2 2h14c1.1 0 2-.9 2-2V5c0-1.1-.9-2-2-2zM9 17H7v-7h2v7zm4 0h-2V7h2v10zm4 0h-2v-4h2v4z\"/>\n",
              "    </g>\n",
              "</svg>\n",
              "  </button>\n",
              "\n",
              "<style>\n",
              "  .colab-df-quickchart {\n",
              "      --bg-color: #E8F0FE;\n",
              "      --fill-color: #1967D2;\n",
              "      --hover-bg-color: #E2EBFA;\n",
              "      --hover-fill-color: #174EA6;\n",
              "      --disabled-fill-color: #AAA;\n",
              "      --disabled-bg-color: #DDD;\n",
              "  }\n",
              "\n",
              "  [theme=dark] .colab-df-quickchart {\n",
              "      --bg-color: #3B4455;\n",
              "      --fill-color: #D2E3FC;\n",
              "      --hover-bg-color: #434B5C;\n",
              "      --hover-fill-color: #FFFFFF;\n",
              "      --disabled-bg-color: #3B4455;\n",
              "      --disabled-fill-color: #666;\n",
              "  }\n",
              "\n",
              "  .colab-df-quickchart {\n",
              "    background-color: var(--bg-color);\n",
              "    border: none;\n",
              "    border-radius: 50%;\n",
              "    cursor: pointer;\n",
              "    display: none;\n",
              "    fill: var(--fill-color);\n",
              "    height: 32px;\n",
              "    padding: 0;\n",
              "    width: 32px;\n",
              "  }\n",
              "\n",
              "  .colab-df-quickchart:hover {\n",
              "    background-color: var(--hover-bg-color);\n",
              "    box-shadow: 0 1px 2px rgba(60, 64, 67, 0.3), 0 1px 3px 1px rgba(60, 64, 67, 0.15);\n",
              "    fill: var(--button-hover-fill-color);\n",
              "  }\n",
              "\n",
              "  .colab-df-quickchart-complete:disabled,\n",
              "  .colab-df-quickchart-complete:disabled:hover {\n",
              "    background-color: var(--disabled-bg-color);\n",
              "    fill: var(--disabled-fill-color);\n",
              "    box-shadow: none;\n",
              "  }\n",
              "\n",
              "  .colab-df-spinner {\n",
              "    border: 2px solid var(--fill-color);\n",
              "    border-color: transparent;\n",
              "    border-bottom-color: var(--fill-color);\n",
              "    animation:\n",
              "      spin 1s steps(1) infinite;\n",
              "  }\n",
              "\n",
              "  @keyframes spin {\n",
              "    0% {\n",
              "      border-color: transparent;\n",
              "      border-bottom-color: var(--fill-color);\n",
              "      border-left-color: var(--fill-color);\n",
              "    }\n",
              "    20% {\n",
              "      border-color: transparent;\n",
              "      border-left-color: var(--fill-color);\n",
              "      border-top-color: var(--fill-color);\n",
              "    }\n",
              "    30% {\n",
              "      border-color: transparent;\n",
              "      border-left-color: var(--fill-color);\n",
              "      border-top-color: var(--fill-color);\n",
              "      border-right-color: var(--fill-color);\n",
              "    }\n",
              "    40% {\n",
              "      border-color: transparent;\n",
              "      border-right-color: var(--fill-color);\n",
              "      border-top-color: var(--fill-color);\n",
              "    }\n",
              "    60% {\n",
              "      border-color: transparent;\n",
              "      border-right-color: var(--fill-color);\n",
              "    }\n",
              "    80% {\n",
              "      border-color: transparent;\n",
              "      border-right-color: var(--fill-color);\n",
              "      border-bottom-color: var(--fill-color);\n",
              "    }\n",
              "    90% {\n",
              "      border-color: transparent;\n",
              "      border-bottom-color: var(--fill-color);\n",
              "    }\n",
              "  }\n",
              "</style>\n",
              "\n",
              "  <script>\n",
              "    async function quickchart(key) {\n",
              "      const quickchartButtonEl =\n",
              "        document.querySelector('#' + key + ' button');\n",
              "      quickchartButtonEl.disabled = true;  // To prevent multiple clicks.\n",
              "      quickchartButtonEl.classList.add('colab-df-spinner');\n",
              "      try {\n",
              "        const charts = await google.colab.kernel.invokeFunction(\n",
              "            'suggestCharts', [key], {});\n",
              "      } catch (error) {\n",
              "        console.error('Error during call to suggestCharts:', error);\n",
              "      }\n",
              "      quickchartButtonEl.classList.remove('colab-df-spinner');\n",
              "      quickchartButtonEl.classList.add('colab-df-quickchart-complete');\n",
              "    }\n",
              "    (() => {\n",
              "      let quickchartButtonEl =\n",
              "        document.querySelector('#df-1e3f1f46-5c1a-491a-a03d-2eb8fb98485a button');\n",
              "      quickchartButtonEl.style.display =\n",
              "        google.colab.kernel.accessAllowed ? 'block' : 'none';\n",
              "    })();\n",
              "  </script>\n",
              "</div>\n",
              "    </div>\n",
              "  </div>\n"
            ],
            "application/vnd.google.colaboratory.intrinsic+json": {
              "type": "dataframe",
              "variable_name": "X_res",
              "summary": "{\n  \"name\": \"X_res\",\n  \"rows\": 457,\n  \"fields\": [\n    {\n      \"column\": \"userId\",\n      \"properties\": {\n        \"dtype\": \"number\",\n        \"std\": 174,\n        \"min\": 1,\n        \"max\": 610,\n        \"num_unique_values\": 457,\n        \"samples\": [\n          102,\n          504,\n          360\n        ],\n        \"semantic_type\": \"\",\n        \"description\": \"\"\n      }\n    },\n    {\n      \"column\": \"actual\",\n      \"properties\": {\n        \"dtype\": \"object\",\n        \"semantic_type\": \"\",\n        \"description\": \"\"\n      }\n    }\n  ]\n}"
            }
          },
          "metadata": {},
          "execution_count": 22
        }
      ],
      "source": [
        "X_res.head()"
      ]
    },
    {
      "cell_type": "code",
      "execution_count": null,
      "metadata": {
        "id": "gIfeMnfY7SvV"
      },
      "outputs": [],
      "source": [
        "ind_train_u = pd.Series(ind_train.index.tolist())\n",
        "ind_train_i = pd.Series(ind_train.columns.values.tolist())"
      ]
    },
    {
      "cell_type": "code",
      "execution_count": null,
      "metadata": {
        "colab": {
          "base_uri": "https://localhost:8080/"
        },
        "id": "Yt-Ky9_A7SvW",
        "outputId": "bd7ab0a1-872d-430d-d601-1eed618a2ea7"
      },
      "outputs": [
        {
          "output_type": "stream",
          "name": "stdout",
          "text": [
            "(457, 9724) (153, 9724)\n"
          ]
        }
      ],
      "source": [
        "print(X_train.shape, X_test.shape)"
      ]
    },
    {
      "cell_type": "markdown",
      "metadata": {
        "id": "akmfgw3e7SvW"
      },
      "source": [
        "### Latent Factor Model ()"
      ]
    },
    {
      "cell_type": "markdown",
      "metadata": {
        "id": "h5-dvGoU7SvW"
      },
      "source": [
        "Будем искать значение целовой переменной $r_{ui}$ пользователя $u$, поставленная фильму $i$, как скалярное произведение векторов $p_u$ и $q_i$ в некотором пространстве $T$ латентных признаков:\n",
        "$$\n",
        "    r_{ui}\n",
        "    \\approx\n",
        "    \\langle p_u, q_i \\rangle.\n",
        "$$\n"
      ]
    },
    {
      "cell_type": "markdown",
      "metadata": {
        "id": "CKKLQMFM7SvW"
      },
      "source": [
        "Как мы обсуждали на уроке нам необходимо минимизировать следующий функционал (LFM):\n",
        "\n",
        "\\begin{equation}\n",
        "\\label{eq:lfmReg}\n",
        "    \\sum_{(u, i) \\in R}\n",
        "        \\left(\n",
        "            r_{ui}\n",
        "            - \\langle p_u, q_i \\rangle\n",
        "        \\right)^2\n",
        "    +\n",
        "    \\lambda\n",
        "    \\sum_{u \\in U}\n",
        "        \\|p_u\\|^2\n",
        "    +\n",
        "    \\mu\n",
        "    \\sum_{i \\in I}\n",
        "        \\|q_i\\|^2\n",
        "    \\to\n",
        "    \\min_{P, Q}\n",
        "\\end{equation}"
      ]
    },
    {
      "cell_type": "markdown",
      "metadata": {
        "id": "uaaAbfSt7SvW"
      },
      "source": [
        "Мы проведем $N$ итераций, в рамках каждой итерации сначала оптимизируем $p$ при фиксированном\n",
        "$q$, затем $q$ при фиксированном $p$.\n",
        "\n",
        "Составим матрицу $P$ из векторов $p_u$ и матрицу $Q$ из векторов $q_i$. Матрицей $Q[u] \\in R^{n_u×K}$ будем обозначать подматрицу матрицы $Q$ только для товаров, оцененных пользователем $u$, где $n_u$ – количество оценок пользователя $u$.\n",
        "Шаг перенастройки $p_u$ при фиксированной матрице $Q$ сводится к настройке Ridge-регрессии и выглядит так:\n",
        "$$A_u = Q[u]^T Q[u] $$\n",
        "$$d_u = Q[u]^Tr_u $$\n",
        "$$p_u = (\\lambda n_uI + A_u)^{−1}d_u\n",
        "$$"
      ]
    },
    {
      "cell_type": "markdown",
      "metadata": {
        "id": "4Q88dsUu7SvW"
      },
      "source": [
        "Есть __явные (explicit)__ предпочтения, которые более надежно дают характеристику подходящего объекта для пользователей:\n",
        "- Покупки, добавления в корзину\n",
        "- Рейтинги\n",
        "\n",
        "И __неявные (implicit)__, их как правило больше:\n",
        "- Посещение страницы товара\n",
        "- Просмотр части фильма\n",
        "\n",
        "__Идея iALS__: предсказываем $s_{ui}$ c весом $c_{ui} = 1 + \\alpha*r_{ui}$. Коэффициент $\\alpha$ позволяет регулировать влияние явного рейтинга на уверенность в интересе.\n",
        "\n",
        "\\begin{equation}\n",
        "\\label{eq:lfmReg}\n",
        "    \\sum_{(u, i) \\in R}\n",
        "        \\left(c_{ui}*(\n",
        "            s_{ui}\n",
        "            - \\langle p_u, q_i \\rangle\n",
        "        \\right)^2)\n",
        "    +\n",
        "    \\lambda\n",
        "    \\sum_{u \\in U}\n",
        "        \\|p_u\\|^2\n",
        "    +\n",
        "    \\mu\n",
        "    \\sum_{i \\in I}\n",
        "        \\|q_i\\|^2\n",
        "    \\to\n",
        "    \\min_{P, Q}\n",
        "\\end{equation}"
      ]
    },
    {
      "cell_type": "code",
      "execution_count": null,
      "metadata": {
        "id": "IS-JjIyM7SvW"
      },
      "outputs": [],
      "source": [
        "from scipy import sparse\n",
        "from scipy.sparse.linalg import spsolve\n",
        "# from sklearn.metrics.pairwise import cosine_similarity\n",
        "from sklearn.preprocessing import MinMaxScaler"
      ]
    },
    {
      "cell_type": "code",
      "execution_count": null,
      "metadata": {
        "id": "7a0qXUYm7SvX"
      },
      "outputs": [],
      "source": [
        "seed=57\n",
        "rstate = np.random.RandomState(seed)\n",
        "rank_size=10\n",
        "lambda_val = 0.1\n",
        "num_user = X_train.shape[0]\n",
        "num_item = X_train.shape[1]\n",
        "P = sparse.csr_matrix((rstate.normal(size = (num_user, rank_size)))) # Random numbers in a m x rank shape\n",
        "Q = sparse.csr_matrix((rstate.normal(size = (num_item, rank_size)))) # Normally this would be rank x n but we can transpose at the end. Makes calculation more simple.\n",
        "QTQ = Q.T.dot(Q) # QTQ\n",
        "PTP = P.T.dot(P)\n",
        "P_eye = sparse.eye(num_user)\n",
        "Q_eye = sparse.eye(num_item)\n",
        "lambda_eye = lambda_val * sparse.eye(rank_size) # Our regularization term lambda*I."
      ]
    },
    {
      "cell_type": "code",
      "execution_count": null,
      "metadata": {
        "colab": {
          "base_uri": "https://localhost:8080/"
        },
        "id": "YjA-4F747SvX",
        "outputId": "f158c0bb-8092-447b-938b-0f66f529e37f"
      },
      "outputs": [
        {
          "output_type": "stream",
          "name": "stdout",
          "text": [
            "[[ 0.0044179  -0.01638758 -0.00766912 -0.00914071  0.02136258 -0.00095192\n",
            "  -0.00905147  0.01610489  0.00381576 -0.00747813]]\n"
          ]
        }
      ],
      "source": [
        "u=5\n",
        "pref = X_train[u, :].toarray() # Grab user row from confidence matrix and convert to dense\n",
        "pref_u = pref[~np.isnan(pref)] # We take only the movies which the user has rated\n",
        "u_rated_movies_ind = np.argwhere(~np.isnan(pref))[:,1] # Index of the rated movies\n",
        "Qu = Q[u_rated_movies_ind, :] # We construct the Qu matrix of only rated existant pairs (u, i)\n",
        "QuTru = Qu.T.dot(pref_u.T) # This is the QuTPu term\n",
        "Q[u] = spsolve(QTQ +lambda_eye, QuTru)\n",
        "print(Q[u].toarray())"
      ]
    },
    {
      "cell_type": "code",
      "source": [
        "from scipy.sparse import csr_matrix\n",
        "from scipy.sparse import eye"
      ],
      "metadata": {
        "id": "XFYSMlR59ruV"
      },
      "execution_count": null,
      "outputs": []
    },
    {
      "cell_type": "code",
      "execution_count": null,
      "metadata": {
        "id": "n2OXgthc7SvX"
      },
      "outputs": [],
      "source": [
        "import numpy as np\n",
        "from scipy.sparse import csr_matrix, eye\n",
        "from scipy.sparse.linalg import spsolve\n",
        "\n",
        "def lfm_als(training_set, lambda_val, iterations=10, rank_size=20, seed=57):\n",
        "    \"\"\"\n",
        "    Alternating Least Squares (ALS) implementation for Latent Factor Model.\n",
        "\n",
        "    Parameters:\n",
        "    - training_set: Sparse CSR matrix of shape (num_users x num_items) containing user-item ratings.\n",
        "    - lambda_val: Regularization parameter to control overfitting.\n",
        "    - iterations: Number of ALS iterations to run (default is 10).\n",
        "    - rank_size: Number of latent features (default is 20).\n",
        "    - seed: Random seed for reproducibility (default is 57).\n",
        "\n",
        "    Returns:\n",
        "    - P: User feature matrix.\n",
        "    - Q.T: Transposed item feature matrix.\n",
        "    \"\"\"\n",
        "\n",
        "    # Get the size of the ratings matrix\n",
        "    num_user = training_set.shape[0]\n",
        "    num_item = training_set.shape[1]\n",
        "\n",
        "    # Initialize random state and feature matrices P and Q\n",
        "    rstate = np.random.RandomState(seed)\n",
        "    P = rstate.normal(size=(num_user, rank_size))  # User feature matrix\n",
        "    Q = rstate.normal(size=(num_item, rank_size))  # Item feature matrix\n",
        "\n",
        "    lambda_eye = lambda_val * eye(rank_size)  # Regularization term\n",
        "\n",
        "    # Begin ALS iterations\n",
        "    for iter_step in range(iterations):\n",
        "        # Precompute Q^T * Q and P^T * P for efficiency\n",
        "        QTQ = Q.T.dot(Q)\n",
        "        PTP = P.T.dot(P)\n",
        "\n",
        "        # Update user feature matrix P\n",
        "        for u in range(num_user):\n",
        "            pref_u = training_set[u, :].toarray().flatten()  # User's preferences as a dense array\n",
        "            rated_items_indices = np.where(pref_u > 0)[0]   # Indices of rated items\n",
        "\n",
        "            if len(rated_items_indices) > 0:\n",
        "                Qu = Q[rated_items_indices, :]             # Subset of Q corresponding to rated items\n",
        "                QuTru = Qu.T.dot(pref_u[rated_items_indices])  # Compute Qu^T * r_u\n",
        "\n",
        "                P[u] = spsolve(QTQ + lambda_eye, QuTru)     # Solve for user features\n",
        "\n",
        "        # Update item feature matrix Q\n",
        "        for i in range(num_item):\n",
        "            pref_i = training_set[:, i].toarray().flatten()  # Item's preferences as a dense array\n",
        "            rated_users_indices = np.where(pref_i > 0)[0]   # Indices of users who rated this item\n",
        "\n",
        "            if len(rated_users_indices) > 0:\n",
        "                Pu = P[rated_users_indices, :]             # Subset of P corresponding to users who rated this item\n",
        "                PuTri = Pu.T.dot(pref_i[rated_users_indices])  # Compute Pu^T * r_i\n",
        "\n",
        "                Q[i] = spsolve(PTP + lambda_eye, PuTri)     # Solve for item features\n",
        "\n",
        "    return csr_matrix(P), csr_matrix(Q.T)\n"
      ]
    },
    {
      "cell_type": "code",
      "source": [
        "from sklearn.metrics.pairwise import cosine_similarity\n",
        "\n",
        "# Выполним факторизацию матрицы рейтингов training_set с помощью lfm_als\n",
        "P, Q_T = lfm_als(X_train, lambda_val=0.1)\n",
        "\n",
        "# Транспонируем Q_T обратно в исходную матрицу признаков фильмов (размер n x rank_size)\n",
        "Q = Q_T.T.toarray()\n",
        "\n",
        "# Рассчитаем косинусное сходство между всеми фильмами\n",
        "similarity_matrix = cosine_similarity(Q)\n",
        "\n",
        "# Найдем индексы фильмов, похожих на фильм с movieId=5615\n",
        "movie_index = 5615  # Индекс фильма в матрице (зависит от структуры данных)\n",
        "similar_movies_indices = similarity_matrix[movie_index].argsort()[::-1]  # Сортировка по убыванию сходства\n",
        "\n",
        "# Второй фильм в списке похожих (первый — это сам фильм)\n",
        "second_similar_movie_index = similar_movies_indices[1]\n",
        "\n",
        "print(\"ID второго похожего фильма:\", second_similar_movie_index)\n"
      ],
      "metadata": {
        "colab": {
          "base_uri": "https://localhost:8080/"
        },
        "id": "z0pPlR3gCp_F",
        "outputId": "3692edfd-5de2-40dd-8bb5-8c618c0fae10"
      },
      "execution_count": null,
      "outputs": [
        {
          "output_type": "stream",
          "name": "stderr",
          "text": [
            "<ipython-input-60-4bda2c4519de>:47: SparseEfficiencyWarning: spsolve requires A be CSC or CSR matrix format\n",
            "  P[u] = spsolve(QTQ + lambda_eye, QuTru)     # Solve for user features\n",
            "<ipython-input-60-4bda2c4519de>:58: SparseEfficiencyWarning: spsolve requires A be CSC or CSR matrix format\n",
            "  Q[i] = spsolve(PTP + lambda_eye, PuTri)     # Solve for item features\n"
          ]
        },
        {
          "output_type": "stream",
          "name": "stdout",
          "text": [
            "ID второго похожего фильма: 6245\n"
          ]
        }
      ]
    },
    {
      "cell_type": "code",
      "execution_count": null,
      "metadata": {
        "id": "7A4sc4u07SvX",
        "outputId": "89c2acdb-c721-4e9f-f62b-f0eef07a511e",
        "colab": {
          "base_uri": "https://localhost:8080/"
        }
      },
      "outputs": [
        {
          "output_type": "stream",
          "name": "stdout",
          "text": [
            "CPU times: user 12min 42s, sys: 1 s, total: 12min 43s\n",
            "Wall time: 12min 47s\n"
          ]
        }
      ],
      "source": [
        "%%time\n",
        "P, Q = lfm_als(X_train, lambda_val = 0.1, iterations = 10, rank_size = 20)"
      ]
    },
    {
      "cell_type": "code",
      "execution_count": null,
      "metadata": {
        "id": "qnFA9FP67SvY",
        "outputId": "029db77c-b86e-4243-850d-a475b65cdc42",
        "colab": {
          "base_uri": "https://localhost:8080/"
        }
      },
      "outputs": [
        {
          "output_type": "stream",
          "name": "stdout",
          "text": [
            "P shape: (457, 20)\n",
            "Q shape: (20, 9724)\n"
          ]
        }
      ],
      "source": [
        "print(\"P shape: {}\".format(P.shape))\n",
        "print(\"Q shape: {}\".format(Q.shape))"
      ]
    },
    {
      "cell_type": "markdown",
      "metadata": {
        "id": "Sy4ODgVr7SvY"
      },
      "source": [
        "### Find Similar movies"
      ]
    },
    {
      "cell_type": "markdown",
      "metadata": {
        "id": "PvxykIyK7SvY"
      },
      "source": [
        "Now that we have the embeddings for all the movies and all the users, we can find similar movies"
      ]
    },
    {
      "cell_type": "code",
      "execution_count": null,
      "metadata": {
        "id": "58MDTsV77SvY",
        "outputId": "839a5407-2e5a-4195-fc42-811fa7992fea",
        "colab": {
          "base_uri": "https://localhost:8080/",
          "height": 206
        }
      },
      "outputs": [
        {
          "output_type": "execute_result",
          "data": {
            "text/plain": [
              "      movieId                                              title  \\\n",
              "3194     4306                                       Shrek (2001)   \n",
              "5160     8360                                     Shrek 2 (2004)   \n",
              "6486    53121                             Shrek the Third (2007)   \n",
              "6915    64249                             Shrek the Halls (2007)   \n",
              "7360    78637  Shrek Forever After (a.k.a. Shrek: The Final C...   \n",
              "\n",
              "                                                 genres  \n",
              "3194  Adventure|Animation|Children|Comedy|Fantasy|Ro...  \n",
              "5160  Adventure|Animation|Children|Comedy|Musical|Ro...  \n",
              "6486        Adventure|Animation|Children|Comedy|Fantasy  \n",
              "6915                 Adventure|Animation|Comedy|Fantasy  \n",
              "7360   Adventure|Animation|Children|Comedy|Fantasy|IMAX  "
            ],
            "text/html": [
              "\n",
              "  <div id=\"df-6ced0b0c-2570-43da-bc00-3c354022809c\" class=\"colab-df-container\">\n",
              "    <div>\n",
              "<style scoped>\n",
              "    .dataframe tbody tr th:only-of-type {\n",
              "        vertical-align: middle;\n",
              "    }\n",
              "\n",
              "    .dataframe tbody tr th {\n",
              "        vertical-align: top;\n",
              "    }\n",
              "\n",
              "    .dataframe thead th {\n",
              "        text-align: right;\n",
              "    }\n",
              "</style>\n",
              "<table border=\"1\" class=\"dataframe\">\n",
              "  <thead>\n",
              "    <tr style=\"text-align: right;\">\n",
              "      <th></th>\n",
              "      <th>movieId</th>\n",
              "      <th>title</th>\n",
              "      <th>genres</th>\n",
              "    </tr>\n",
              "  </thead>\n",
              "  <tbody>\n",
              "    <tr>\n",
              "      <th>3194</th>\n",
              "      <td>4306</td>\n",
              "      <td>Shrek (2001)</td>\n",
              "      <td>Adventure|Animation|Children|Comedy|Fantasy|Ro...</td>\n",
              "    </tr>\n",
              "    <tr>\n",
              "      <th>5160</th>\n",
              "      <td>8360</td>\n",
              "      <td>Shrek 2 (2004)</td>\n",
              "      <td>Adventure|Animation|Children|Comedy|Musical|Ro...</td>\n",
              "    </tr>\n",
              "    <tr>\n",
              "      <th>6486</th>\n",
              "      <td>53121</td>\n",
              "      <td>Shrek the Third (2007)</td>\n",
              "      <td>Adventure|Animation|Children|Comedy|Fantasy</td>\n",
              "    </tr>\n",
              "    <tr>\n",
              "      <th>6915</th>\n",
              "      <td>64249</td>\n",
              "      <td>Shrek the Halls (2007)</td>\n",
              "      <td>Adventure|Animation|Comedy|Fantasy</td>\n",
              "    </tr>\n",
              "    <tr>\n",
              "      <th>7360</th>\n",
              "      <td>78637</td>\n",
              "      <td>Shrek Forever After (a.k.a. Shrek: The Final C...</td>\n",
              "      <td>Adventure|Animation|Children|Comedy|Fantasy|IMAX</td>\n",
              "    </tr>\n",
              "  </tbody>\n",
              "</table>\n",
              "</div>\n",
              "    <div class=\"colab-df-buttons\">\n",
              "\n",
              "  <div class=\"colab-df-container\">\n",
              "    <button class=\"colab-df-convert\" onclick=\"convertToInteractive('df-6ced0b0c-2570-43da-bc00-3c354022809c')\"\n",
              "            title=\"Convert this dataframe to an interactive table.\"\n",
              "            style=\"display:none;\">\n",
              "\n",
              "  <svg xmlns=\"http://www.w3.org/2000/svg\" height=\"24px\" viewBox=\"0 -960 960 960\">\n",
              "    <path d=\"M120-120v-720h720v720H120Zm60-500h600v-160H180v160Zm220 220h160v-160H400v160Zm0 220h160v-160H400v160ZM180-400h160v-160H180v160Zm440 0h160v-160H620v160ZM180-180h160v-160H180v160Zm440 0h160v-160H620v160Z\"/>\n",
              "  </svg>\n",
              "    </button>\n",
              "\n",
              "  <style>\n",
              "    .colab-df-container {\n",
              "      display:flex;\n",
              "      gap: 12px;\n",
              "    }\n",
              "\n",
              "    .colab-df-convert {\n",
              "      background-color: #E8F0FE;\n",
              "      border: none;\n",
              "      border-radius: 50%;\n",
              "      cursor: pointer;\n",
              "      display: none;\n",
              "      fill: #1967D2;\n",
              "      height: 32px;\n",
              "      padding: 0 0 0 0;\n",
              "      width: 32px;\n",
              "    }\n",
              "\n",
              "    .colab-df-convert:hover {\n",
              "      background-color: #E2EBFA;\n",
              "      box-shadow: 0px 1px 2px rgba(60, 64, 67, 0.3), 0px 1px 3px 1px rgba(60, 64, 67, 0.15);\n",
              "      fill: #174EA6;\n",
              "    }\n",
              "\n",
              "    .colab-df-buttons div {\n",
              "      margin-bottom: 4px;\n",
              "    }\n",
              "\n",
              "    [theme=dark] .colab-df-convert {\n",
              "      background-color: #3B4455;\n",
              "      fill: #D2E3FC;\n",
              "    }\n",
              "\n",
              "    [theme=dark] .colab-df-convert:hover {\n",
              "      background-color: #434B5C;\n",
              "      box-shadow: 0px 1px 3px 1px rgba(0, 0, 0, 0.15);\n",
              "      filter: drop-shadow(0px 1px 2px rgba(0, 0, 0, 0.3));\n",
              "      fill: #FFFFFF;\n",
              "    }\n",
              "  </style>\n",
              "\n",
              "    <script>\n",
              "      const buttonEl =\n",
              "        document.querySelector('#df-6ced0b0c-2570-43da-bc00-3c354022809c button.colab-df-convert');\n",
              "      buttonEl.style.display =\n",
              "        google.colab.kernel.accessAllowed ? 'block' : 'none';\n",
              "\n",
              "      async function convertToInteractive(key) {\n",
              "        const element = document.querySelector('#df-6ced0b0c-2570-43da-bc00-3c354022809c');\n",
              "        const dataTable =\n",
              "          await google.colab.kernel.invokeFunction('convertToInteractive',\n",
              "                                                    [key], {});\n",
              "        if (!dataTable) return;\n",
              "\n",
              "        const docLinkHtml = 'Like what you see? Visit the ' +\n",
              "          '<a target=\"_blank\" href=https://colab.research.google.com/notebooks/data_table.ipynb>data table notebook</a>'\n",
              "          + ' to learn more about interactive tables.';\n",
              "        element.innerHTML = '';\n",
              "        dataTable['output_type'] = 'display_data';\n",
              "        await google.colab.output.renderOutput(dataTable, element);\n",
              "        const docLink = document.createElement('div');\n",
              "        docLink.innerHTML = docLinkHtml;\n",
              "        element.appendChild(docLink);\n",
              "      }\n",
              "    </script>\n",
              "  </div>\n",
              "\n",
              "\n",
              "<div id=\"df-e4418df1-7933-4584-9b4c-ea8745dd3f6d\">\n",
              "  <button class=\"colab-df-quickchart\" onclick=\"quickchart('df-e4418df1-7933-4584-9b4c-ea8745dd3f6d')\"\n",
              "            title=\"Suggest charts\"\n",
              "            style=\"display:none;\">\n",
              "\n",
              "<svg xmlns=\"http://www.w3.org/2000/svg\" height=\"24px\"viewBox=\"0 0 24 24\"\n",
              "     width=\"24px\">\n",
              "    <g>\n",
              "        <path d=\"M19 3H5c-1.1 0-2 .9-2 2v14c0 1.1.9 2 2 2h14c1.1 0 2-.9 2-2V5c0-1.1-.9-2-2-2zM9 17H7v-7h2v7zm4 0h-2V7h2v10zm4 0h-2v-4h2v4z\"/>\n",
              "    </g>\n",
              "</svg>\n",
              "  </button>\n",
              "\n",
              "<style>\n",
              "  .colab-df-quickchart {\n",
              "      --bg-color: #E8F0FE;\n",
              "      --fill-color: #1967D2;\n",
              "      --hover-bg-color: #E2EBFA;\n",
              "      --hover-fill-color: #174EA6;\n",
              "      --disabled-fill-color: #AAA;\n",
              "      --disabled-bg-color: #DDD;\n",
              "  }\n",
              "\n",
              "  [theme=dark] .colab-df-quickchart {\n",
              "      --bg-color: #3B4455;\n",
              "      --fill-color: #D2E3FC;\n",
              "      --hover-bg-color: #434B5C;\n",
              "      --hover-fill-color: #FFFFFF;\n",
              "      --disabled-bg-color: #3B4455;\n",
              "      --disabled-fill-color: #666;\n",
              "  }\n",
              "\n",
              "  .colab-df-quickchart {\n",
              "    background-color: var(--bg-color);\n",
              "    border: none;\n",
              "    border-radius: 50%;\n",
              "    cursor: pointer;\n",
              "    display: none;\n",
              "    fill: var(--fill-color);\n",
              "    height: 32px;\n",
              "    padding: 0;\n",
              "    width: 32px;\n",
              "  }\n",
              "\n",
              "  .colab-df-quickchart:hover {\n",
              "    background-color: var(--hover-bg-color);\n",
              "    box-shadow: 0 1px 2px rgba(60, 64, 67, 0.3), 0 1px 3px 1px rgba(60, 64, 67, 0.15);\n",
              "    fill: var(--button-hover-fill-color);\n",
              "  }\n",
              "\n",
              "  .colab-df-quickchart-complete:disabled,\n",
              "  .colab-df-quickchart-complete:disabled:hover {\n",
              "    background-color: var(--disabled-bg-color);\n",
              "    fill: var(--disabled-fill-color);\n",
              "    box-shadow: none;\n",
              "  }\n",
              "\n",
              "  .colab-df-spinner {\n",
              "    border: 2px solid var(--fill-color);\n",
              "    border-color: transparent;\n",
              "    border-bottom-color: var(--fill-color);\n",
              "    animation:\n",
              "      spin 1s steps(1) infinite;\n",
              "  }\n",
              "\n",
              "  @keyframes spin {\n",
              "    0% {\n",
              "      border-color: transparent;\n",
              "      border-bottom-color: var(--fill-color);\n",
              "      border-left-color: var(--fill-color);\n",
              "    }\n",
              "    20% {\n",
              "      border-color: transparent;\n",
              "      border-left-color: var(--fill-color);\n",
              "      border-top-color: var(--fill-color);\n",
              "    }\n",
              "    30% {\n",
              "      border-color: transparent;\n",
              "      border-left-color: var(--fill-color);\n",
              "      border-top-color: var(--fill-color);\n",
              "      border-right-color: var(--fill-color);\n",
              "    }\n",
              "    40% {\n",
              "      border-color: transparent;\n",
              "      border-right-color: var(--fill-color);\n",
              "      border-top-color: var(--fill-color);\n",
              "    }\n",
              "    60% {\n",
              "      border-color: transparent;\n",
              "      border-right-color: var(--fill-color);\n",
              "    }\n",
              "    80% {\n",
              "      border-color: transparent;\n",
              "      border-right-color: var(--fill-color);\n",
              "      border-bottom-color: var(--fill-color);\n",
              "    }\n",
              "    90% {\n",
              "      border-color: transparent;\n",
              "      border-bottom-color: var(--fill-color);\n",
              "    }\n",
              "  }\n",
              "</style>\n",
              "\n",
              "  <script>\n",
              "    async function quickchart(key) {\n",
              "      const quickchartButtonEl =\n",
              "        document.querySelector('#' + key + ' button');\n",
              "      quickchartButtonEl.disabled = true;  // To prevent multiple clicks.\n",
              "      quickchartButtonEl.classList.add('colab-df-spinner');\n",
              "      try {\n",
              "        const charts = await google.colab.kernel.invokeFunction(\n",
              "            'suggestCharts', [key], {});\n",
              "      } catch (error) {\n",
              "        console.error('Error during call to suggestCharts:', error);\n",
              "      }\n",
              "      quickchartButtonEl.classList.remove('colab-df-spinner');\n",
              "      quickchartButtonEl.classList.add('colab-df-quickchart-complete');\n",
              "    }\n",
              "    (() => {\n",
              "      let quickchartButtonEl =\n",
              "        document.querySelector('#df-e4418df1-7933-4584-9b4c-ea8745dd3f6d button');\n",
              "      quickchartButtonEl.style.display =\n",
              "        google.colab.kernel.accessAllowed ? 'block' : 'none';\n",
              "    })();\n",
              "  </script>\n",
              "</div>\n",
              "    </div>\n",
              "  </div>\n"
            ],
            "application/vnd.google.colaboratory.intrinsic+json": {
              "type": "dataframe",
              "summary": "{\n  \"name\": \"df_movies[df_movies['title']\",\n  \"rows\": 5,\n  \"fields\": [\n    {\n      \"column\": \"movieId\",\n      \"properties\": {\n        \"dtype\": \"number\",\n        \"std\": 33589,\n        \"min\": 4306,\n        \"max\": 78637,\n        \"num_unique_values\": 5,\n        \"samples\": [\n          8360,\n          78637,\n          53121\n        ],\n        \"semantic_type\": \"\",\n        \"description\": \"\"\n      }\n    },\n    {\n      \"column\": \"title\",\n      \"properties\": {\n        \"dtype\": \"string\",\n        \"num_unique_values\": 5,\n        \"samples\": [\n          \"Shrek 2 (2004)\",\n          \"Shrek Forever After (a.k.a. Shrek: The Final Chapter) (2010)\",\n          \"Shrek the Third (2007)\"\n        ],\n        \"semantic_type\": \"\",\n        \"description\": \"\"\n      }\n    },\n    {\n      \"column\": \"genres\",\n      \"properties\": {\n        \"dtype\": \"string\",\n        \"num_unique_values\": 5,\n        \"samples\": [\n          \"Adventure|Animation|Children|Comedy|Musical|Romance\",\n          \"Adventure|Animation|Children|Comedy|Fantasy|IMAX\",\n          \"Adventure|Animation|Children|Comedy|Fantasy\"\n        ],\n        \"semantic_type\": \"\",\n        \"description\": \"\"\n      }\n    }\n  ]\n}"
            }
          },
          "metadata": {},
          "execution_count": 34
        }
      ],
      "source": [
        "df_movies[df_movies['title'].str.contains('Shrek')]"
      ]
    },
    {
      "cell_type": "code",
      "execution_count": null,
      "metadata": {
        "id": "DEXhRwOZ7SvY"
      },
      "outputs": [],
      "source": [
        "# Let's find similar movies to Shrek (2001).\n",
        "movieId = 5615\n",
        "ind_i = ind_train_i[ind_train_i == movieId].index[0]\n",
        "\n",
        "# Get the item row\n",
        "qi = Q[:, ind_i].toarray()[:, 0]"
      ]
    },
    {
      "cell_type": "code",
      "execution_count": null,
      "metadata": {
        "id": "6ynq3Xet7SvY"
      },
      "outputs": [],
      "source": [
        "# Calculate the similarity score between choseen movie and other movies\n",
        "# and select the top 10 most similar.\n",
        "scores = Q.T.dot(qi)\n",
        "top_10 = np.argsort(scores)[::-1][:10]"
      ]
    },
    {
      "cell_type": "code",
      "execution_count": null,
      "metadata": {
        "id": "xRxxlUox7SvZ",
        "outputId": "565601f1-6f47-452c-b378-10fd68ffb0b1",
        "colab": {
          "base_uri": "https://localhost:8080/"
        }
      },
      "outputs": [
        {
          "output_type": "execute_result",
          "data": {
            "text/plain": [
              "array([  20,  509, 1796,  398,  505,  508,  514,  315, 1001,  383])"
            ]
          },
          "metadata": {},
          "execution_count": 52
        }
      ],
      "source": [
        "top_10"
      ]
    },
    {
      "cell_type": "code",
      "execution_count": null,
      "metadata": {
        "id": "o3C58zbD7Svd",
        "outputId": "02fb822e-7874-414f-ed5f-f9a7cb85ab27",
        "colab": {
          "base_uri": "https://localhost:8080/",
          "height": 36
        }
      },
      "outputs": [
        {
          "output_type": "execute_result",
          "data": {
            "text/plain": [
              "'Believer, The (2001)'"
            ],
            "application/vnd.google.colaboratory.intrinsic+json": {
              "type": "string"
            }
          },
          "metadata": {},
          "execution_count": 58
        }
      ],
      "source": [
        "# since we have indexes are not equal to movieId, we take the movieId from the\n",
        "df_movies[df_movies['movieId']==ind_train_i[3828]]['title'].iloc[0]"
      ]
    },
    {
      "cell_type": "code",
      "execution_count": null,
      "metadata": {
        "id": "KLAgQ_g37Svd",
        "outputId": "997167c9-c21d-48ce-d1c7-09392f3dd30b",
        "colab": {
          "base_uri": "https://localhost:8080/",
          "height": 363
        }
      },
      "outputs": [
        {
          "output_type": "execute_result",
          "data": {
            "text/plain": [
              "   movieId                                     movies        score  \\\n",
              "0       21                          Get Shorty (1995)  9929.793257   \n",
              "1      592                              Batman (1989)  9250.268785   \n",
              "2     2396                 Shakespeare in Love (1998)  8946.338297   \n",
              "3      457                       Fugitive, The (1993)  8636.084672   \n",
              "4      587                               Ghost (1990)  8452.765989   \n",
              "5      590                  Dances with Wolves (1990)  8436.466614   \n",
              "6      597                        Pretty Woman (1990)  8197.353452   \n",
              "7      357         Four Weddings and a Funeral (1994)  8029.325146   \n",
              "8     1304  Butch Cassidy and the Sundance Kid (1969)  7775.032965   \n",
              "9      440                                Dave (1993)  7771.717664   \n",
              "\n",
              "                                  genres  \n",
              "0                  Comedy|Crime|Thriller  \n",
              "1                  Action|Crime|Thriller  \n",
              "2                   Comedy|Drama|Romance  \n",
              "3                               Thriller  \n",
              "4  Comedy|Drama|Fantasy|Romance|Thriller  \n",
              "5                Adventure|Drama|Western  \n",
              "6                         Comedy|Romance  \n",
              "7                         Comedy|Romance  \n",
              "8                         Action|Western  \n",
              "9                         Comedy|Romance  "
            ],
            "text/html": [
              "\n",
              "  <div id=\"df-d319a044-1909-40b0-b199-6b7835701679\" class=\"colab-df-container\">\n",
              "    <div>\n",
              "<style scoped>\n",
              "    .dataframe tbody tr th:only-of-type {\n",
              "        vertical-align: middle;\n",
              "    }\n",
              "\n",
              "    .dataframe tbody tr th {\n",
              "        vertical-align: top;\n",
              "    }\n",
              "\n",
              "    .dataframe thead th {\n",
              "        text-align: right;\n",
              "    }\n",
              "</style>\n",
              "<table border=\"1\" class=\"dataframe\">\n",
              "  <thead>\n",
              "    <tr style=\"text-align: right;\">\n",
              "      <th></th>\n",
              "      <th>movieId</th>\n",
              "      <th>movies</th>\n",
              "      <th>score</th>\n",
              "      <th>genres</th>\n",
              "    </tr>\n",
              "  </thead>\n",
              "  <tbody>\n",
              "    <tr>\n",
              "      <th>0</th>\n",
              "      <td>21</td>\n",
              "      <td>Get Shorty (1995)</td>\n",
              "      <td>9929.793257</td>\n",
              "      <td>Comedy|Crime|Thriller</td>\n",
              "    </tr>\n",
              "    <tr>\n",
              "      <th>1</th>\n",
              "      <td>592</td>\n",
              "      <td>Batman (1989)</td>\n",
              "      <td>9250.268785</td>\n",
              "      <td>Action|Crime|Thriller</td>\n",
              "    </tr>\n",
              "    <tr>\n",
              "      <th>2</th>\n",
              "      <td>2396</td>\n",
              "      <td>Shakespeare in Love (1998)</td>\n",
              "      <td>8946.338297</td>\n",
              "      <td>Comedy|Drama|Romance</td>\n",
              "    </tr>\n",
              "    <tr>\n",
              "      <th>3</th>\n",
              "      <td>457</td>\n",
              "      <td>Fugitive, The (1993)</td>\n",
              "      <td>8636.084672</td>\n",
              "      <td>Thriller</td>\n",
              "    </tr>\n",
              "    <tr>\n",
              "      <th>4</th>\n",
              "      <td>587</td>\n",
              "      <td>Ghost (1990)</td>\n",
              "      <td>8452.765989</td>\n",
              "      <td>Comedy|Drama|Fantasy|Romance|Thriller</td>\n",
              "    </tr>\n",
              "    <tr>\n",
              "      <th>5</th>\n",
              "      <td>590</td>\n",
              "      <td>Dances with Wolves (1990)</td>\n",
              "      <td>8436.466614</td>\n",
              "      <td>Adventure|Drama|Western</td>\n",
              "    </tr>\n",
              "    <tr>\n",
              "      <th>6</th>\n",
              "      <td>597</td>\n",
              "      <td>Pretty Woman (1990)</td>\n",
              "      <td>8197.353452</td>\n",
              "      <td>Comedy|Romance</td>\n",
              "    </tr>\n",
              "    <tr>\n",
              "      <th>7</th>\n",
              "      <td>357</td>\n",
              "      <td>Four Weddings and a Funeral (1994)</td>\n",
              "      <td>8029.325146</td>\n",
              "      <td>Comedy|Romance</td>\n",
              "    </tr>\n",
              "    <tr>\n",
              "      <th>8</th>\n",
              "      <td>1304</td>\n",
              "      <td>Butch Cassidy and the Sundance Kid (1969)</td>\n",
              "      <td>7775.032965</td>\n",
              "      <td>Action|Western</td>\n",
              "    </tr>\n",
              "    <tr>\n",
              "      <th>9</th>\n",
              "      <td>440</td>\n",
              "      <td>Dave (1993)</td>\n",
              "      <td>7771.717664</td>\n",
              "      <td>Comedy|Romance</td>\n",
              "    </tr>\n",
              "  </tbody>\n",
              "</table>\n",
              "</div>\n",
              "    <div class=\"colab-df-buttons\">\n",
              "\n",
              "  <div class=\"colab-df-container\">\n",
              "    <button class=\"colab-df-convert\" onclick=\"convertToInteractive('df-d319a044-1909-40b0-b199-6b7835701679')\"\n",
              "            title=\"Convert this dataframe to an interactive table.\"\n",
              "            style=\"display:none;\">\n",
              "\n",
              "  <svg xmlns=\"http://www.w3.org/2000/svg\" height=\"24px\" viewBox=\"0 -960 960 960\">\n",
              "    <path d=\"M120-120v-720h720v720H120Zm60-500h600v-160H180v160Zm220 220h160v-160H400v160Zm0 220h160v-160H400v160ZM180-400h160v-160H180v160Zm440 0h160v-160H620v160ZM180-180h160v-160H180v160Zm440 0h160v-160H620v160Z\"/>\n",
              "  </svg>\n",
              "    </button>\n",
              "\n",
              "  <style>\n",
              "    .colab-df-container {\n",
              "      display:flex;\n",
              "      gap: 12px;\n",
              "    }\n",
              "\n",
              "    .colab-df-convert {\n",
              "      background-color: #E8F0FE;\n",
              "      border: none;\n",
              "      border-radius: 50%;\n",
              "      cursor: pointer;\n",
              "      display: none;\n",
              "      fill: #1967D2;\n",
              "      height: 32px;\n",
              "      padding: 0 0 0 0;\n",
              "      width: 32px;\n",
              "    }\n",
              "\n",
              "    .colab-df-convert:hover {\n",
              "      background-color: #E2EBFA;\n",
              "      box-shadow: 0px 1px 2px rgba(60, 64, 67, 0.3), 0px 1px 3px 1px rgba(60, 64, 67, 0.15);\n",
              "      fill: #174EA6;\n",
              "    }\n",
              "\n",
              "    .colab-df-buttons div {\n",
              "      margin-bottom: 4px;\n",
              "    }\n",
              "\n",
              "    [theme=dark] .colab-df-convert {\n",
              "      background-color: #3B4455;\n",
              "      fill: #D2E3FC;\n",
              "    }\n",
              "\n",
              "    [theme=dark] .colab-df-convert:hover {\n",
              "      background-color: #434B5C;\n",
              "      box-shadow: 0px 1px 3px 1px rgba(0, 0, 0, 0.15);\n",
              "      filter: drop-shadow(0px 1px 2px rgba(0, 0, 0, 0.3));\n",
              "      fill: #FFFFFF;\n",
              "    }\n",
              "  </style>\n",
              "\n",
              "    <script>\n",
              "      const buttonEl =\n",
              "        document.querySelector('#df-d319a044-1909-40b0-b199-6b7835701679 button.colab-df-convert');\n",
              "      buttonEl.style.display =\n",
              "        google.colab.kernel.accessAllowed ? 'block' : 'none';\n",
              "\n",
              "      async function convertToInteractive(key) {\n",
              "        const element = document.querySelector('#df-d319a044-1909-40b0-b199-6b7835701679');\n",
              "        const dataTable =\n",
              "          await google.colab.kernel.invokeFunction('convertToInteractive',\n",
              "                                                    [key], {});\n",
              "        if (!dataTable) return;\n",
              "\n",
              "        const docLinkHtml = 'Like what you see? Visit the ' +\n",
              "          '<a target=\"_blank\" href=https://colab.research.google.com/notebooks/data_table.ipynb>data table notebook</a>'\n",
              "          + ' to learn more about interactive tables.';\n",
              "        element.innerHTML = '';\n",
              "        dataTable['output_type'] = 'display_data';\n",
              "        await google.colab.output.renderOutput(dataTable, element);\n",
              "        const docLink = document.createElement('div');\n",
              "        docLink.innerHTML = docLinkHtml;\n",
              "        element.appendChild(docLink);\n",
              "      }\n",
              "    </script>\n",
              "  </div>\n",
              "\n",
              "\n",
              "<div id=\"df-defe5fbf-0d2b-4da7-adea-2649cf7ac551\">\n",
              "  <button class=\"colab-df-quickchart\" onclick=\"quickchart('df-defe5fbf-0d2b-4da7-adea-2649cf7ac551')\"\n",
              "            title=\"Suggest charts\"\n",
              "            style=\"display:none;\">\n",
              "\n",
              "<svg xmlns=\"http://www.w3.org/2000/svg\" height=\"24px\"viewBox=\"0 0 24 24\"\n",
              "     width=\"24px\">\n",
              "    <g>\n",
              "        <path d=\"M19 3H5c-1.1 0-2 .9-2 2v14c0 1.1.9 2 2 2h14c1.1 0 2-.9 2-2V5c0-1.1-.9-2-2-2zM9 17H7v-7h2v7zm4 0h-2V7h2v10zm4 0h-2v-4h2v4z\"/>\n",
              "    </g>\n",
              "</svg>\n",
              "  </button>\n",
              "\n",
              "<style>\n",
              "  .colab-df-quickchart {\n",
              "      --bg-color: #E8F0FE;\n",
              "      --fill-color: #1967D2;\n",
              "      --hover-bg-color: #E2EBFA;\n",
              "      --hover-fill-color: #174EA6;\n",
              "      --disabled-fill-color: #AAA;\n",
              "      --disabled-bg-color: #DDD;\n",
              "  }\n",
              "\n",
              "  [theme=dark] .colab-df-quickchart {\n",
              "      --bg-color: #3B4455;\n",
              "      --fill-color: #D2E3FC;\n",
              "      --hover-bg-color: #434B5C;\n",
              "      --hover-fill-color: #FFFFFF;\n",
              "      --disabled-bg-color: #3B4455;\n",
              "      --disabled-fill-color: #666;\n",
              "  }\n",
              "\n",
              "  .colab-df-quickchart {\n",
              "    background-color: var(--bg-color);\n",
              "    border: none;\n",
              "    border-radius: 50%;\n",
              "    cursor: pointer;\n",
              "    display: none;\n",
              "    fill: var(--fill-color);\n",
              "    height: 32px;\n",
              "    padding: 0;\n",
              "    width: 32px;\n",
              "  }\n",
              "\n",
              "  .colab-df-quickchart:hover {\n",
              "    background-color: var(--hover-bg-color);\n",
              "    box-shadow: 0 1px 2px rgba(60, 64, 67, 0.3), 0 1px 3px 1px rgba(60, 64, 67, 0.15);\n",
              "    fill: var(--button-hover-fill-color);\n",
              "  }\n",
              "\n",
              "  .colab-df-quickchart-complete:disabled,\n",
              "  .colab-df-quickchart-complete:disabled:hover {\n",
              "    background-color: var(--disabled-bg-color);\n",
              "    fill: var(--disabled-fill-color);\n",
              "    box-shadow: none;\n",
              "  }\n",
              "\n",
              "  .colab-df-spinner {\n",
              "    border: 2px solid var(--fill-color);\n",
              "    border-color: transparent;\n",
              "    border-bottom-color: var(--fill-color);\n",
              "    animation:\n",
              "      spin 1s steps(1) infinite;\n",
              "  }\n",
              "\n",
              "  @keyframes spin {\n",
              "    0% {\n",
              "      border-color: transparent;\n",
              "      border-bottom-color: var(--fill-color);\n",
              "      border-left-color: var(--fill-color);\n",
              "    }\n",
              "    20% {\n",
              "      border-color: transparent;\n",
              "      border-left-color: var(--fill-color);\n",
              "      border-top-color: var(--fill-color);\n",
              "    }\n",
              "    30% {\n",
              "      border-color: transparent;\n",
              "      border-left-color: var(--fill-color);\n",
              "      border-top-color: var(--fill-color);\n",
              "      border-right-color: var(--fill-color);\n",
              "    }\n",
              "    40% {\n",
              "      border-color: transparent;\n",
              "      border-right-color: var(--fill-color);\n",
              "      border-top-color: var(--fill-color);\n",
              "    }\n",
              "    60% {\n",
              "      border-color: transparent;\n",
              "      border-right-color: var(--fill-color);\n",
              "    }\n",
              "    80% {\n",
              "      border-color: transparent;\n",
              "      border-right-color: var(--fill-color);\n",
              "      border-bottom-color: var(--fill-color);\n",
              "    }\n",
              "    90% {\n",
              "      border-color: transparent;\n",
              "      border-bottom-color: var(--fill-color);\n",
              "    }\n",
              "  }\n",
              "</style>\n",
              "\n",
              "  <script>\n",
              "    async function quickchart(key) {\n",
              "      const quickchartButtonEl =\n",
              "        document.querySelector('#' + key + ' button');\n",
              "      quickchartButtonEl.disabled = true;  // To prevent multiple clicks.\n",
              "      quickchartButtonEl.classList.add('colab-df-spinner');\n",
              "      try {\n",
              "        const charts = await google.colab.kernel.invokeFunction(\n",
              "            'suggestCharts', [key], {});\n",
              "      } catch (error) {\n",
              "        console.error('Error during call to suggestCharts:', error);\n",
              "      }\n",
              "      quickchartButtonEl.classList.remove('colab-df-spinner');\n",
              "      quickchartButtonEl.classList.add('colab-df-quickchart-complete');\n",
              "    }\n",
              "    (() => {\n",
              "      let quickchartButtonEl =\n",
              "        document.querySelector('#df-defe5fbf-0d2b-4da7-adea-2649cf7ac551 button');\n",
              "      quickchartButtonEl.style.display =\n",
              "        google.colab.kernel.accessAllowed ? 'block' : 'none';\n",
              "    })();\n",
              "  </script>\n",
              "</div>\n",
              "    </div>\n",
              "  </div>\n"
            ],
            "application/vnd.google.colaboratory.intrinsic+json": {
              "type": "dataframe",
              "variable_name": "similar",
              "summary": "{\n  \"name\": \"similar\",\n  \"rows\": 10,\n  \"fields\": [\n    {\n      \"column\": \"movieId\",\n      \"properties\": {\n        \"dtype\": \"number\",\n        \"std\": 665,\n        \"min\": 21,\n        \"max\": 2396,\n        \"num_unique_values\": 10,\n        \"samples\": [\n          1304,\n          592,\n          590\n        ],\n        \"semantic_type\": \"\",\n        \"description\": \"\"\n      }\n    },\n    {\n      \"column\": \"movies\",\n      \"properties\": {\n        \"dtype\": \"string\",\n        \"num_unique_values\": 10,\n        \"samples\": [\n          \"Butch Cassidy and the Sundance Kid (1969)\",\n          \"Batman (1989)\",\n          \"Dances with Wolves (1990)\"\n        ],\n        \"semantic_type\": \"\",\n        \"description\": \"\"\n      }\n    },\n    {\n      \"column\": \"score\",\n      \"properties\": {\n        \"dtype\": \"number\",\n        \"std\": 681.6844817555079,\n        \"min\": 7771.717664391423,\n        \"max\": 9929.79325684499,\n        \"num_unique_values\": 10,\n        \"samples\": [\n          7775.032964662468,\n          9250.268784986676,\n          8436.466613710629\n        ],\n        \"semantic_type\": \"\",\n        \"description\": \"\"\n      }\n    },\n    {\n      \"column\": \"genres\",\n      \"properties\": {\n        \"dtype\": \"string\",\n        \"num_unique_values\": 8,\n        \"samples\": [\n          \"Action|Crime|Thriller\",\n          \"Adventure|Drama|Western\",\n          \"Comedy|Crime|Thriller\"\n        ],\n        \"semantic_type\": \"\",\n        \"description\": \"\"\n      }\n    }\n  ]\n}"
            }
          },
          "metadata": {},
          "execution_count": 59
        }
      ],
      "source": [
        "movies = []\n",
        "movies_genres = []\n",
        "movies_scores = []\n",
        "movies_ids = []\n",
        "\n",
        "# Get and print the actual artists names and scores\n",
        "for idx in top_10:\n",
        "    movies_ids.append(ind_train_i[idx])\n",
        "    movies.append(df_movies[df_movies['movieId']==ind_train_i[idx]]['title'].iloc[0])\n",
        "    movies_genres.append(df_movies[df_movies['movieId']==ind_train_i[idx]]['genres'].iloc[0])\n",
        "    movies_scores.append(scores[idx])\n",
        "\n",
        "similar = pd.DataFrame({'movieId': movies_ids, 'movies': movies, 'score': movies_scores, 'genres': movies_genres})\n",
        "similar"
      ]
    },
    {
      "cell_type": "markdown",
      "metadata": {
        "id": "mUs76rwP7Svd"
      },
      "source": [
        "### Recommend movies to the user"
      ]
    },
    {
      "cell_type": "markdown",
      "metadata": {
        "id": "q6EnyoQ77Svd"
      },
      "source": [
        "Let's write a function to predict for every user a movie not watched."
      ]
    },
    {
      "cell_type": "code",
      "execution_count": null,
      "metadata": {
        "id": "hcFqRPaF7Svd"
      },
      "outputs": [],
      "source": [
        "import numpy as np\n",
        "import pandas as pd\n",
        "from sklearn.preprocessing import MinMaxScaler\n",
        "\n",
        "def predict_top_k(user_id, training_set, P, Q, df_movies, ind_train_i, k=10):\n",
        "    \"\"\"\n",
        "    Recommend items for a given user given a trained model.\n",
        "\n",
        "    Args:\n",
        "        user_id (int): The id of the user we want to create recommendations for.\n",
        "        training_set (csr_matrix): Our original training data.\n",
        "        P (numpy.ndarray): User embedding matrix.\n",
        "        Q (numpy.ndarray): Item embedding matrix.\n",
        "        df_movies (pd.DataFrame): DataFrame containing movie information (e.g., movieId and title).\n",
        "        ind_train_i (list): List mapping training matrix indices to movieIds.\n",
        "        k (int): Number of recommendations to return.\n",
        "\n",
        "    Returns:\n",
        "        recommendations (pd.DataFrame): DataFrame with k movies and scores.\n",
        "    \"\"\"\n",
        "    # Проверяем индекс пользователя для соответствия матрице\n",
        "    matrix_user_id = user_id - 1  # Если ID пользователей начинаются с 1\n",
        "\n",
        "    # Проверка размеров P и Q\n",
        "    print(\"Размер P:\", P.shape)\n",
        "    print(\"Размер Q:\", Q.shape)\n",
        "\n",
        "    # Транспонирование Q для корректного скалярного произведения\n",
        "    if Q.shape[0] != P.shape[1]:\n",
        "        print(\"Транспонируем Q...\")\n",
        "        Q = Q.T\n",
        "\n",
        "    # Вычисление рекомендаций через скалярное произведение\n",
        "    rec_vector = P[matrix_user_id, :].dot(Q)\n",
        "\n",
        "    # Получаем взаимодействия пользователя\n",
        "    user_interactions = training_set[user_id, :].toarray()\n",
        "\n",
        "    # Бинарная маска: установим просмотренные фильмы в 0, а непросмотренные в 1\n",
        "    user_interactions = np.where(~np.isnan(user_interactions), 0, user_interactions)\n",
        "    user_interactions = np.nan_to_num(user_interactions[0], nan=1)\n",
        "\n",
        "    # Вычисление рекомендаций через скалярное произведение\n",
        "    rec_vector = P[matrix_user_id, :].dot(Q)  # Убираем .toarray()\n",
        "\n",
        "    # Масштабируем оценки между 0 и 1 для удобства интерпретации\n",
        "    min_max = MinMaxScaler()\n",
        "    rec_vector_scaled = min_max.fit_transform(rec_vector.reshape(-1, 1))[:, 0]\n",
        "\n",
        "    # Исключаем уже просмотренные фильмы\n",
        "    recommend_vector = user_interactions * rec_vector_scaled\n",
        "\n",
        "    # Получаем индексы топ-K фильмов в порядке убывания оценок\n",
        "    item_idx = np.argsort(recommend_vector)[::-1][:k]\n",
        "\n",
        "    # Подготовка DataFrame с рекомендациями\n",
        "    movies = []\n",
        "    movies_scores = []\n",
        "    movies_ids = []\n",
        "\n",
        "    for idx in item_idx:\n",
        "        movies_ids.append(ind_train_i[idx])\n",
        "        movie_title = df_movies[df_movies['movieId'] == ind_train_i[idx]]['title'].iloc[0]\n",
        "        movies.append(movie_title)\n",
        "        movies_scores.append(recommend_vector[idx])\n",
        "\n",
        "    similar = pd.DataFrame({'movieId': movies_ids, 'title': movies, 'score': movies_scores})\n",
        "\n",
        "    return similar\n"
      ]
    },
    {
      "cell_type": "code",
      "execution_count": null,
      "metadata": {
        "id": "jYImaGuT7Sve",
        "colab": {
          "base_uri": "https://localhost:8080/",
          "height": 193
        },
        "outputId": "4fcb7e1e-1001-4c8d-9391-ec1aedc62258"
      },
      "outputs": [
        {
          "output_type": "error",
          "ename": "NameError",
          "evalue": "name 'X_train' is not defined",
          "traceback": [
            "\u001b[0;31m---------------------------------------------------------------------------\u001b[0m",
            "\u001b[0;31mNameError\u001b[0m                                 Traceback (most recent call last)",
            "\u001b[0;32m<ipython-input-2-20f18f4c2334>\u001b[0m in \u001b[0;36m<cell line: 3>\u001b[0;34m()\u001b[0m\n\u001b[1;32m      1\u001b[0m \u001b[0;31m# Let's generate and print our recommendations\u001b[0m\u001b[0;34m\u001b[0m\u001b[0;34m\u001b[0m\u001b[0m\n\u001b[1;32m      2\u001b[0m \u001b[0muser_id\u001b[0m \u001b[0;34m=\u001b[0m \u001b[0;36m103\u001b[0m\u001b[0;34m\u001b[0m\u001b[0;34m\u001b[0m\u001b[0m\n\u001b[0;32m----> 3\u001b[0;31m \u001b[0mrecommendations\u001b[0m \u001b[0;34m=\u001b[0m \u001b[0mpredict_top_k\u001b[0m\u001b[0;34m(\u001b[0m\u001b[0muser_id\u001b[0m\u001b[0;34m,\u001b[0m \u001b[0mX_train\u001b[0m\u001b[0;34m,\u001b[0m \u001b[0mP\u001b[0m\u001b[0;34m,\u001b[0m \u001b[0mQ\u001b[0m\u001b[0;34m,\u001b[0m \u001b[0mdf_movies\u001b[0m\u001b[0;34m,\u001b[0m \u001b[0mind_train_i\u001b[0m\u001b[0;34m,\u001b[0m \u001b[0mk\u001b[0m\u001b[0;34m=\u001b[0m\u001b[0;36m10\u001b[0m\u001b[0;34m)\u001b[0m\u001b[0;34m\u001b[0m\u001b[0;34m\u001b[0m\u001b[0m\n\u001b[0m\u001b[1;32m      4\u001b[0m \u001b[0mprint\u001b[0m\u001b[0;34m(\u001b[0m\u001b[0mrecommendations\u001b[0m\u001b[0;34m)\u001b[0m\u001b[0;34m\u001b[0m\u001b[0;34m\u001b[0m\u001b[0m\n",
            "\u001b[0;31mNameError\u001b[0m: name 'X_train' is not defined"
          ]
        }
      ],
      "source": [
        "# Let's generate and print our recommendations\n",
        "user_id = 103\n",
        "recommendations = predict_top_k(user_id, X_train, P, Q, df_movies, ind_train_i, k=10)\n",
        "print(recommendations)"
      ]
    },
    {
      "cell_type": "code",
      "execution_count": null,
      "metadata": {
        "id": "tMwZYEPo7Sve"
      },
      "outputs": [],
      "source": [
        "# Let's put it in a list of recommendation for every user\n",
        "pred = []\n",
        "for i in X_res.index:\n",
        "    ind = ind_train_u[ind_train_u == i].index[0] # get index in the sparse matrix\n",
        "    recom = predict_top_k(ind, X_train, P, Q, df_movies, ind_train_i, k=10)\n",
        "    pred.append(recom['movieId'].to_list())"
      ]
    },
    {
      "cell_type": "code",
      "execution_count": null,
      "metadata": {
        "id": "44xHqmY87Sve"
      },
      "outputs": [],
      "source": [
        "X_res['predicted'] = pred"
      ]
    },
    {
      "cell_type": "code",
      "execution_count": null,
      "metadata": {
        "id": "aHbnTb1z7Sve",
        "outputId": "b6b8b65a-d0d3-489a-d20b-0fa3071ca263"
      },
      "outputs": [
        {
          "data": {
            "text/html": [
              "<div>\n",
              "<style scoped>\n",
              "    .dataframe tbody tr th:only-of-type {\n",
              "        vertical-align: middle;\n",
              "    }\n",
              "\n",
              "    .dataframe tbody tr th {\n",
              "        vertical-align: top;\n",
              "    }\n",
              "\n",
              "    .dataframe thead th {\n",
              "        text-align: right;\n",
              "    }\n",
              "</style>\n",
              "<table border=\"1\" class=\"dataframe\">\n",
              "  <thead>\n",
              "    <tr style=\"text-align: right;\">\n",
              "      <th></th>\n",
              "      <th>actual</th>\n",
              "      <th>predicted</th>\n",
              "    </tr>\n",
              "    <tr>\n",
              "      <th>userId</th>\n",
              "      <th></th>\n",
              "      <th></th>\n",
              "    </tr>\n",
              "  </thead>\n",
              "  <tbody>\n",
              "    <tr>\n",
              "      <td>575</td>\n",
              "      <td>[2560, 2436, 2566, 2567, 2568, 2571, 2572, 257...</td>\n",
              "      <td>[85025, 168250, 76060, 3758, 5991, 3790, 91542...</td>\n",
              "    </tr>\n",
              "    <tr>\n",
              "      <td>323</td>\n",
              "      <td>[1, 2, 2571, 1037, 527, 17, 19, 22, 110102, 29...</td>\n",
              "      <td>[103483, 32314, 6660, 8383, 81535, 37739, 2278...</td>\n",
              "    </tr>\n",
              "    <tr>\n",
              "      <td>14</td>\n",
              "      <td>[4, 7, 266, 524, 527, 784, 19, 150, 153, 25, 2...</td>\n",
              "      <td>[4403, 56941, 4022, 157172, 104074, 2028, 1350...</td>\n",
              "    </tr>\n",
              "    <tr>\n",
              "      <td>496</td>\n",
              "      <td>[4993, 111362, 2950, 904, 104841, 912, 84374, ...</td>\n",
              "      <td>[47538, 78160, 994, 72171, 64695, 4973, 3317, ...</td>\n",
              "    </tr>\n",
              "    <tr>\n",
              "      <td>531</td>\n",
              "      <td>[4993, 260, 10, 1291, 919, 1961, 2473, 1198, 1...</td>\n",
              "      <td>[6516, 4397, 567, 68952, 4293, 3719, 5247, 418...</td>\n",
              "    </tr>\n",
              "  </tbody>\n",
              "</table>\n",
              "</div>"
            ],
            "text/plain": [
              "                                                   actual  \\\n",
              "userId                                                      \n",
              "575     [2560, 2436, 2566, 2567, 2568, 2571, 2572, 257...   \n",
              "323     [1, 2, 2571, 1037, 527, 17, 19, 22, 110102, 29...   \n",
              "14      [4, 7, 266, 524, 527, 784, 19, 150, 153, 25, 2...   \n",
              "496     [4993, 111362, 2950, 904, 104841, 912, 84374, ...   \n",
              "531     [4993, 260, 10, 1291, 919, 1961, 2473, 1198, 1...   \n",
              "\n",
              "                                                predicted  \n",
              "userId                                                     \n",
              "575     [85025, 168250, 76060, 3758, 5991, 3790, 91542...  \n",
              "323     [103483, 32314, 6660, 8383, 81535, 37739, 2278...  \n",
              "14      [4403, 56941, 4022, 157172, 104074, 2028, 1350...  \n",
              "496     [47538, 78160, 994, 72171, 64695, 4973, 3317, ...  \n",
              "531     [6516, 4397, 567, 68952, 4293, 3719, 5247, 418...  "
            ]
          },
          "execution_count": 44,
          "metadata": {},
          "output_type": "execute_result"
        }
      ],
      "source": [
        "X_res.head()"
      ]
    }
  ],
  "metadata": {
    "kernelspec": {
      "display_name": "Python 3",
      "name": "python3"
    },
    "language_info": {
      "codemirror_mode": {
        "name": "ipython",
        "version": 3
      },
      "file_extension": ".py",
      "mimetype": "text/x-python",
      "name": "python",
      "nbconvert_exporter": "python",
      "pygments_lexer": "ipython3",
      "version": "3.7.4"
    },
    "colab": {
      "provenance": [],
      "gpuType": "T4"
    },
    "accelerator": "GPU"
  },
  "nbformat": 4,
  "nbformat_minor": 0
}