{
  "cells": [
    {
      "cell_type": "markdown",
      "id": "e7c3baaa",
      "metadata": {
        "id": "e7c3baaa"
      },
      "source": [
        "### Корреляционный анализ с помощью Python.\n"
      ]
    },
    {
      "cell_type": "markdown",
      "id": "edd2528b",
      "metadata": {
        "id": "edd2528b"
      },
      "source": [
        "##### Импортируем необходимые модули"
      ]
    },
    {
      "cell_type": "code",
      "execution_count": null,
      "id": "ecaaa339",
      "metadata": {
        "id": "ecaaa339"
      },
      "outputs": [],
      "source": [
        "import statsmodels.formula.api as smf\n",
        "import statsmodels.stats.multicomp as multi\n",
        "import scipy\n",
        "import pandas as pd\n",
        "from seaborn import regplot\n",
        "import matplotlib.pyplot as plt\n",
        "import numpy as np\n",
        "import seaborn as sns"
      ]
    },
    {
      "cell_type": "markdown",
      "id": "fae5367b",
      "metadata": {
        "id": "fae5367b"
      },
      "source": [
        "##### Исследуем данные, с которыми будем работать"
      ]
    },
    {
      "cell_type": "code",
      "execution_count": null,
      "id": "9b56b474",
      "metadata": {
        "colab": {
          "base_uri": "https://localhost:8080/",
          "height": 226
        },
        "id": "9b56b474",
        "outputId": "46127432-debf-4abe-ea9a-bd49ea75f980"
      },
      "outputs": [
        {
          "output_type": "execute_result",
          "data": {
            "text/plain": [
              "       country   incomeperperson alcconsumption armedforcesrate  \\\n",
              "0  Afghanistan                              .03        .5696534   \n",
              "1      Albania  1914.99655094922           7.29       1.0247361   \n",
              "2      Algeria  2231.99333515006            .69        2.306817   \n",
              "3      Andorra  21943.3398976022          10.17                   \n",
              "4       Angola  1381.00426770244           5.57       1.4613288   \n",
              "\n",
              "  breastcancerper100th      co2emissions  femaleemployrate hivrate  \\\n",
              "0                 26.8          75944000  25.6000003814697           \n",
              "1                 57.4  223747333.333333  42.0999984741211           \n",
              "2                 23.5  2932108666.66667  31.7000007629394      .1   \n",
              "3                                                                    \n",
              "4                 23.1         248358000  69.4000015258789       2   \n",
              "\n",
              "    internetuserate lifeexpectancy     oilperperson polityscore  \\\n",
              "0  3.65412162280064         48.673                            0   \n",
              "1  44.9899469578783         76.918                            9   \n",
              "2  12.5000733055148         73.131  .42009452521537           2   \n",
              "3                81                                               \n",
              "4  9.99995388324075         51.093                           -2   \n",
              "\n",
              "  relectricperperson   suicideper100th        employrate urbanrate  \n",
              "0                     6.68438529968262  55.7000007629394     24.04  \n",
              "1   636.341383366604  7.69932985305786  51.4000015258789     46.72  \n",
              "2   590.509814347428   4.8487696647644              50.5     65.22  \n",
              "3                     5.36217880249023                       88.92  \n",
              "4   172.999227388199  14.5546770095825  75.6999969482422      56.7  "
            ],
            "text/html": [
              "\n",
              "  <div id=\"df-4f0ed2d0-35b4-4207-be6f-d4d0a95612bb\" class=\"colab-df-container\">\n",
              "    <div>\n",
              "<style scoped>\n",
              "    .dataframe tbody tr th:only-of-type {\n",
              "        vertical-align: middle;\n",
              "    }\n",
              "\n",
              "    .dataframe tbody tr th {\n",
              "        vertical-align: top;\n",
              "    }\n",
              "\n",
              "    .dataframe thead th {\n",
              "        text-align: right;\n",
              "    }\n",
              "</style>\n",
              "<table border=\"1\" class=\"dataframe\">\n",
              "  <thead>\n",
              "    <tr style=\"text-align: right;\">\n",
              "      <th></th>\n",
              "      <th>country</th>\n",
              "      <th>incomeperperson</th>\n",
              "      <th>alcconsumption</th>\n",
              "      <th>armedforcesrate</th>\n",
              "      <th>breastcancerper100th</th>\n",
              "      <th>co2emissions</th>\n",
              "      <th>femaleemployrate</th>\n",
              "      <th>hivrate</th>\n",
              "      <th>internetuserate</th>\n",
              "      <th>lifeexpectancy</th>\n",
              "      <th>oilperperson</th>\n",
              "      <th>polityscore</th>\n",
              "      <th>relectricperperson</th>\n",
              "      <th>suicideper100th</th>\n",
              "      <th>employrate</th>\n",
              "      <th>urbanrate</th>\n",
              "    </tr>\n",
              "  </thead>\n",
              "  <tbody>\n",
              "    <tr>\n",
              "      <th>0</th>\n",
              "      <td>Afghanistan</td>\n",
              "      <td></td>\n",
              "      <td>.03</td>\n",
              "      <td>.5696534</td>\n",
              "      <td>26.8</td>\n",
              "      <td>75944000</td>\n",
              "      <td>25.6000003814697</td>\n",
              "      <td></td>\n",
              "      <td>3.65412162280064</td>\n",
              "      <td>48.673</td>\n",
              "      <td></td>\n",
              "      <td>0</td>\n",
              "      <td></td>\n",
              "      <td>6.68438529968262</td>\n",
              "      <td>55.7000007629394</td>\n",
              "      <td>24.04</td>\n",
              "    </tr>\n",
              "    <tr>\n",
              "      <th>1</th>\n",
              "      <td>Albania</td>\n",
              "      <td>1914.99655094922</td>\n",
              "      <td>7.29</td>\n",
              "      <td>1.0247361</td>\n",
              "      <td>57.4</td>\n",
              "      <td>223747333.333333</td>\n",
              "      <td>42.0999984741211</td>\n",
              "      <td></td>\n",
              "      <td>44.9899469578783</td>\n",
              "      <td>76.918</td>\n",
              "      <td></td>\n",
              "      <td>9</td>\n",
              "      <td>636.341383366604</td>\n",
              "      <td>7.69932985305786</td>\n",
              "      <td>51.4000015258789</td>\n",
              "      <td>46.72</td>\n",
              "    </tr>\n",
              "    <tr>\n",
              "      <th>2</th>\n",
              "      <td>Algeria</td>\n",
              "      <td>2231.99333515006</td>\n",
              "      <td>.69</td>\n",
              "      <td>2.306817</td>\n",
              "      <td>23.5</td>\n",
              "      <td>2932108666.66667</td>\n",
              "      <td>31.7000007629394</td>\n",
              "      <td>.1</td>\n",
              "      <td>12.5000733055148</td>\n",
              "      <td>73.131</td>\n",
              "      <td>.42009452521537</td>\n",
              "      <td>2</td>\n",
              "      <td>590.509814347428</td>\n",
              "      <td>4.8487696647644</td>\n",
              "      <td>50.5</td>\n",
              "      <td>65.22</td>\n",
              "    </tr>\n",
              "    <tr>\n",
              "      <th>3</th>\n",
              "      <td>Andorra</td>\n",
              "      <td>21943.3398976022</td>\n",
              "      <td>10.17</td>\n",
              "      <td></td>\n",
              "      <td></td>\n",
              "      <td></td>\n",
              "      <td></td>\n",
              "      <td></td>\n",
              "      <td>81</td>\n",
              "      <td></td>\n",
              "      <td></td>\n",
              "      <td></td>\n",
              "      <td></td>\n",
              "      <td>5.36217880249023</td>\n",
              "      <td></td>\n",
              "      <td>88.92</td>\n",
              "    </tr>\n",
              "    <tr>\n",
              "      <th>4</th>\n",
              "      <td>Angola</td>\n",
              "      <td>1381.00426770244</td>\n",
              "      <td>5.57</td>\n",
              "      <td>1.4613288</td>\n",
              "      <td>23.1</td>\n",
              "      <td>248358000</td>\n",
              "      <td>69.4000015258789</td>\n",
              "      <td>2</td>\n",
              "      <td>9.99995388324075</td>\n",
              "      <td>51.093</td>\n",
              "      <td></td>\n",
              "      <td>-2</td>\n",
              "      <td>172.999227388199</td>\n",
              "      <td>14.5546770095825</td>\n",
              "      <td>75.6999969482422</td>\n",
              "      <td>56.7</td>\n",
              "    </tr>\n",
              "  </tbody>\n",
              "</table>\n",
              "</div>\n",
              "    <div class=\"colab-df-buttons\">\n",
              "\n",
              "  <div class=\"colab-df-container\">\n",
              "    <button class=\"colab-df-convert\" onclick=\"convertToInteractive('df-4f0ed2d0-35b4-4207-be6f-d4d0a95612bb')\"\n",
              "            title=\"Convert this dataframe to an interactive table.\"\n",
              "            style=\"display:none;\">\n",
              "\n",
              "  <svg xmlns=\"http://www.w3.org/2000/svg\" height=\"24px\" viewBox=\"0 -960 960 960\">\n",
              "    <path d=\"M120-120v-720h720v720H120Zm60-500h600v-160H180v160Zm220 220h160v-160H400v160Zm0 220h160v-160H400v160ZM180-400h160v-160H180v160Zm440 0h160v-160H620v160ZM180-180h160v-160H180v160Zm440 0h160v-160H620v160Z\"/>\n",
              "  </svg>\n",
              "    </button>\n",
              "\n",
              "  <style>\n",
              "    .colab-df-container {\n",
              "      display:flex;\n",
              "      gap: 12px;\n",
              "    }\n",
              "\n",
              "    .colab-df-convert {\n",
              "      background-color: #E8F0FE;\n",
              "      border: none;\n",
              "      border-radius: 50%;\n",
              "      cursor: pointer;\n",
              "      display: none;\n",
              "      fill: #1967D2;\n",
              "      height: 32px;\n",
              "      padding: 0 0 0 0;\n",
              "      width: 32px;\n",
              "    }\n",
              "\n",
              "    .colab-df-convert:hover {\n",
              "      background-color: #E2EBFA;\n",
              "      box-shadow: 0px 1px 2px rgba(60, 64, 67, 0.3), 0px 1px 3px 1px rgba(60, 64, 67, 0.15);\n",
              "      fill: #174EA6;\n",
              "    }\n",
              "\n",
              "    .colab-df-buttons div {\n",
              "      margin-bottom: 4px;\n",
              "    }\n",
              "\n",
              "    [theme=dark] .colab-df-convert {\n",
              "      background-color: #3B4455;\n",
              "      fill: #D2E3FC;\n",
              "    }\n",
              "\n",
              "    [theme=dark] .colab-df-convert:hover {\n",
              "      background-color: #434B5C;\n",
              "      box-shadow: 0px 1px 3px 1px rgba(0, 0, 0, 0.15);\n",
              "      filter: drop-shadow(0px 1px 2px rgba(0, 0, 0, 0.3));\n",
              "      fill: #FFFFFF;\n",
              "    }\n",
              "  </style>\n",
              "\n",
              "    <script>\n",
              "      const buttonEl =\n",
              "        document.querySelector('#df-4f0ed2d0-35b4-4207-be6f-d4d0a95612bb button.colab-df-convert');\n",
              "      buttonEl.style.display =\n",
              "        google.colab.kernel.accessAllowed ? 'block' : 'none';\n",
              "\n",
              "      async function convertToInteractive(key) {\n",
              "        const element = document.querySelector('#df-4f0ed2d0-35b4-4207-be6f-d4d0a95612bb');\n",
              "        const dataTable =\n",
              "          await google.colab.kernel.invokeFunction('convertToInteractive',\n",
              "                                                    [key], {});\n",
              "        if (!dataTable) return;\n",
              "\n",
              "        const docLinkHtml = 'Like what you see? Visit the ' +\n",
              "          '<a target=\"_blank\" href=https://colab.research.google.com/notebooks/data_table.ipynb>data table notebook</a>'\n",
              "          + ' to learn more about interactive tables.';\n",
              "        element.innerHTML = '';\n",
              "        dataTable['output_type'] = 'display_data';\n",
              "        await google.colab.output.renderOutput(dataTable, element);\n",
              "        const docLink = document.createElement('div');\n",
              "        docLink.innerHTML = docLinkHtml;\n",
              "        element.appendChild(docLink);\n",
              "      }\n",
              "    </script>\n",
              "  </div>\n",
              "\n",
              "\n",
              "<div id=\"df-35b35330-9bdb-4fbe-9757-4dc12d74e82f\">\n",
              "  <button class=\"colab-df-quickchart\" onclick=\"quickchart('df-35b35330-9bdb-4fbe-9757-4dc12d74e82f')\"\n",
              "            title=\"Suggest charts\"\n",
              "            style=\"display:none;\">\n",
              "\n",
              "<svg xmlns=\"http://www.w3.org/2000/svg\" height=\"24px\"viewBox=\"0 0 24 24\"\n",
              "     width=\"24px\">\n",
              "    <g>\n",
              "        <path d=\"M19 3H5c-1.1 0-2 .9-2 2v14c0 1.1.9 2 2 2h14c1.1 0 2-.9 2-2V5c0-1.1-.9-2-2-2zM9 17H7v-7h2v7zm4 0h-2V7h2v10zm4 0h-2v-4h2v4z\"/>\n",
              "    </g>\n",
              "</svg>\n",
              "  </button>\n",
              "\n",
              "<style>\n",
              "  .colab-df-quickchart {\n",
              "      --bg-color: #E8F0FE;\n",
              "      --fill-color: #1967D2;\n",
              "      --hover-bg-color: #E2EBFA;\n",
              "      --hover-fill-color: #174EA6;\n",
              "      --disabled-fill-color: #AAA;\n",
              "      --disabled-bg-color: #DDD;\n",
              "  }\n",
              "\n",
              "  [theme=dark] .colab-df-quickchart {\n",
              "      --bg-color: #3B4455;\n",
              "      --fill-color: #D2E3FC;\n",
              "      --hover-bg-color: #434B5C;\n",
              "      --hover-fill-color: #FFFFFF;\n",
              "      --disabled-bg-color: #3B4455;\n",
              "      --disabled-fill-color: #666;\n",
              "  }\n",
              "\n",
              "  .colab-df-quickchart {\n",
              "    background-color: var(--bg-color);\n",
              "    border: none;\n",
              "    border-radius: 50%;\n",
              "    cursor: pointer;\n",
              "    display: none;\n",
              "    fill: var(--fill-color);\n",
              "    height: 32px;\n",
              "    padding: 0;\n",
              "    width: 32px;\n",
              "  }\n",
              "\n",
              "  .colab-df-quickchart:hover {\n",
              "    background-color: var(--hover-bg-color);\n",
              "    box-shadow: 0 1px 2px rgba(60, 64, 67, 0.3), 0 1px 3px 1px rgba(60, 64, 67, 0.15);\n",
              "    fill: var(--button-hover-fill-color);\n",
              "  }\n",
              "\n",
              "  .colab-df-quickchart-complete:disabled,\n",
              "  .colab-df-quickchart-complete:disabled:hover {\n",
              "    background-color: var(--disabled-bg-color);\n",
              "    fill: var(--disabled-fill-color);\n",
              "    box-shadow: none;\n",
              "  }\n",
              "\n",
              "  .colab-df-spinner {\n",
              "    border: 2px solid var(--fill-color);\n",
              "    border-color: transparent;\n",
              "    border-bottom-color: var(--fill-color);\n",
              "    animation:\n",
              "      spin 1s steps(1) infinite;\n",
              "  }\n",
              "\n",
              "  @keyframes spin {\n",
              "    0% {\n",
              "      border-color: transparent;\n",
              "      border-bottom-color: var(--fill-color);\n",
              "      border-left-color: var(--fill-color);\n",
              "    }\n",
              "    20% {\n",
              "      border-color: transparent;\n",
              "      border-left-color: var(--fill-color);\n",
              "      border-top-color: var(--fill-color);\n",
              "    }\n",
              "    30% {\n",
              "      border-color: transparent;\n",
              "      border-left-color: var(--fill-color);\n",
              "      border-top-color: var(--fill-color);\n",
              "      border-right-color: var(--fill-color);\n",
              "    }\n",
              "    40% {\n",
              "      border-color: transparent;\n",
              "      border-right-color: var(--fill-color);\n",
              "      border-top-color: var(--fill-color);\n",
              "    }\n",
              "    60% {\n",
              "      border-color: transparent;\n",
              "      border-right-color: var(--fill-color);\n",
              "    }\n",
              "    80% {\n",
              "      border-color: transparent;\n",
              "      border-right-color: var(--fill-color);\n",
              "      border-bottom-color: var(--fill-color);\n",
              "    }\n",
              "    90% {\n",
              "      border-color: transparent;\n",
              "      border-bottom-color: var(--fill-color);\n",
              "    }\n",
              "  }\n",
              "</style>\n",
              "\n",
              "  <script>\n",
              "    async function quickchart(key) {\n",
              "      const quickchartButtonEl =\n",
              "        document.querySelector('#' + key + ' button');\n",
              "      quickchartButtonEl.disabled = true;  // To prevent multiple clicks.\n",
              "      quickchartButtonEl.classList.add('colab-df-spinner');\n",
              "      try {\n",
              "        const charts = await google.colab.kernel.invokeFunction(\n",
              "            'suggestCharts', [key], {});\n",
              "      } catch (error) {\n",
              "        console.error('Error during call to suggestCharts:', error);\n",
              "      }\n",
              "      quickchartButtonEl.classList.remove('colab-df-spinner');\n",
              "      quickchartButtonEl.classList.add('colab-df-quickchart-complete');\n",
              "    }\n",
              "    (() => {\n",
              "      let quickchartButtonEl =\n",
              "        document.querySelector('#df-35b35330-9bdb-4fbe-9757-4dc12d74e82f button');\n",
              "      quickchartButtonEl.style.display =\n",
              "        google.colab.kernel.accessAllowed ? 'block' : 'none';\n",
              "    })();\n",
              "  </script>\n",
              "</div>\n",
              "    </div>\n",
              "  </div>\n"
            ],
            "application/vnd.google.colaboratory.intrinsic+json": {
              "type": "dataframe",
              "variable_name": "df",
              "summary": "{\n  \"name\": \"df\",\n  \"rows\": 213,\n  \"fields\": [\n    {\n      \"column\": \"country\",\n      \"properties\": {\n        \"dtype\": \"string\",\n        \"num_unique_values\": 213,\n        \"samples\": [\n          \"Australia\",\n          \"Turkmenistan\",\n          \"Gabon\"\n        ],\n        \"semantic_type\": \"\",\n        \"description\": \"\"\n      }\n    },\n    {\n      \"column\": \"incomeperperson\",\n      \"properties\": {\n        \"dtype\": \"string\",\n        \"num_unique_values\": 191,\n        \"samples\": [\n          \"8614.12021915499\",\n          \"35536.0724708577\",\n          \"3745.64985213146\"\n        ],\n        \"semantic_type\": \"\",\n        \"description\": \"\"\n      }\n    },\n    {\n      \"column\": \"alcconsumption\",\n      \"properties\": {\n        \"dtype\": \"string\",\n        \"num_unique_values\": 181,\n        \"samples\": [\n          \"2.08\",\n          \"5.81\",\n          \"6.56\"\n        ],\n        \"semantic_type\": \"\",\n        \"description\": \"\"\n      }\n    },\n    {\n      \"column\": \"armedforcesrate\",\n      \"properties\": {\n        \"dtype\": \"string\",\n        \"num_unique_values\": 165,\n        \"samples\": [\n          \".3318626\",\n          \".7205279\",\n          \".5235483\"\n        ],\n        \"semantic_type\": \"\",\n        \"description\": \"\"\n      }\n    },\n    {\n      \"column\": \"breastcancerper100th\",\n      \"properties\": {\n        \"dtype\": \"string\",\n        \"num_unique_values\": 137,\n        \"samples\": [\n          \"50.3\",\n          \"46.6\",\n          \"16.6\"\n        ],\n        \"semantic_type\": \"\",\n        \"description\": \"\"\n      }\n    },\n    {\n      \"column\": \"co2emissions\",\n      \"properties\": {\n        \"dtype\": \"string\",\n        \"num_unique_values\": 201,\n        \"samples\": [\n          \"2484925666.66667\",\n          \"36160666.6666667\",\n          \"45411666.6666667\"\n        ],\n        \"semantic_type\": \"\",\n        \"description\": \"\"\n      }\n    },\n    {\n      \"column\": \"femaleemployrate\",\n      \"properties\": {\n        \"dtype\": \"string\",\n        \"num_unique_values\": 154,\n        \"samples\": [\n          \"41.7000007629394\",\n          \"79.1999969482422\",\n          \"20.2999992370605\"\n        ],\n        \"semantic_type\": \"\",\n        \"description\": \"\"\n      }\n    },\n    {\n      \"column\": \"hivrate\",\n      \"properties\": {\n        \"dtype\": \"category\",\n        \"num_unique_values\": 47,\n        \"samples\": [\n          \"6.3\",\n          \"17.8\",\n          \"1.7\"\n        ],\n        \"semantic_type\": \"\",\n        \"description\": \"\"\n      }\n    },\n    {\n      \"column\": \"internetuserate\",\n      \"properties\": {\n        \"dtype\": \"string\",\n        \"num_unique_values\": 193,\n        \"samples\": [\n          \"2.59997365487891\",\n          \"1.28004964712744\",\n          \".99995892606692\"\n        ],\n        \"semantic_type\": \"\",\n        \"description\": \"\"\n      }\n    },\n    {\n      \"column\": \"lifeexpectancy\",\n      \"properties\": {\n        \"dtype\": \"string\",\n        \"num_unique_values\": 190,\n        \"samples\": [\n          \"64.986\",\n          \"78.531\",\n          \"58.582\"\n        ],\n        \"semantic_type\": \"\",\n        \"description\": \"\"\n      }\n    },\n    {\n      \"column\": \"oilperperson\",\n      \"properties\": {\n        \"dtype\": \"category\",\n        \"num_unique_values\": 64,\n        \"samples\": [\n          \"1.54589380221323\",\n          \".255234906436274\",\n          \" \"\n        ],\n        \"semantic_type\": \"\",\n        \"description\": \"\"\n      }\n    },\n    {\n      \"column\": \"polityscore\",\n      \"properties\": {\n        \"dtype\": \"category\",\n        \"num_unique_values\": 22,\n        \"samples\": [\n          \"0\",\n          \"-1\",\n          \"-7\"\n        ],\n        \"semantic_type\": \"\",\n        \"description\": \"\"\n      }\n    },\n    {\n      \"column\": \"relectricperperson\",\n      \"properties\": {\n        \"dtype\": \"string\",\n        \"num_unique_values\": 133,\n        \"samples\": [\n          \"9.19239470829337\",\n          \"428.31230705847\",\n          \"528.787349748965\"\n        ],\n        \"semantic_type\": \"\",\n        \"description\": \"\"\n      }\n    },\n    {\n      \"column\": \"suicideper100th\",\n      \"properties\": {\n        \"dtype\": \"string\",\n        \"num_unique_values\": 192,\n        \"samples\": [\n          \"10.57191\",\n          \"1.92248511314392\",\n          \"11.4261808395386\"\n        ],\n        \"semantic_type\": \"\",\n        \"description\": \"\"\n      }\n    },\n    {\n      \"column\": \"employrate\",\n      \"properties\": {\n        \"dtype\": \"string\",\n        \"num_unique_values\": 140,\n        \"samples\": [\n          \"61\",\n          \"55.4000015258789\",\n          \"68.9000015258789\"\n        ],\n        \"semantic_type\": \"\",\n        \"description\": \"\"\n      }\n    },\n    {\n      \"column\": \"urbanrate\",\n      \"properties\": {\n        \"dtype\": \"string\",\n        \"num_unique_values\": 195,\n        \"samples\": [\n          \"60.3\",\n          \"73.46\",\n          \"42.38\"\n        ],\n        \"semantic_type\": \"\",\n        \"description\": \"\"\n      }\n    }\n  ]\n}"
            }
          },
          "metadata": {},
          "execution_count": 2
        }
      ],
      "source": [
        "\n",
        "df = pd.read_csv(\"gapminder.csv\")\n",
        "df.head()"
      ]
    },
    {
      "cell_type": "markdown",
      "id": "9060d1b2",
      "metadata": {
        "id": "9060d1b2"
      },
      "source": [
        "Как мы видим, в данных есть пропущенные значения (это пустая ячейка).\n",
        "\n",
        "Для исследования данных с помощью корреляционного анализа необходимо совпадение числа наблюдений для обоих факторов (фактором в данном случае можно назвать любой из столбцов). Обработаем пропущенные значения"
      ]
    },
    {
      "cell_type": "code",
      "execution_count": null,
      "id": "f7b5fa30",
      "metadata": {
        "colab": {
          "base_uri": "https://localhost:8080/"
        },
        "id": "f7b5fa30",
        "outputId": "46171d17-780b-43f3-d157-6ba4a93acba9"
      },
      "outputs": [
        {
          "output_type": "stream",
          "name": "stdout",
          "text": [
            "Есть ли пропущенные значения?  False\n",
            "\n"
          ]
        }
      ],
      "source": [
        "\n",
        "\n",
        "print(\"Есть ли пропущенные значения? \", df.isnull().values.any())\n",
        "print()"
      ]
    },
    {
      "cell_type": "markdown",
      "id": "ba98fbd2",
      "metadata": {
        "id": "ba98fbd2"
      },
      "source": [
        "Получен интересный результат. Утверждается, что пропусков нет, однако, мы видим, что у нас в столбах довольно много пустых ячеек.\n",
        "\n",
        "Обыкновенно пропущенное значение характеризуется как None, то есть прото ничего не написано. Однако, именно этот датасет специфичен тем, что на месте пропущенных ячеек стоит пробел ' ', но не None. Из-за этого встроенная функция не смогла дать корректный ответ, когда мы попытались проверить наличие пропусков"
      ]
    },
    {
      "cell_type": "code",
      "execution_count": null,
      "id": "64cd36ef",
      "metadata": {
        "id": "64cd36ef"
      },
      "outputs": [],
      "source": [
        "\n",
        "def check_missing_values(df, cols):\n",
        "    for col in cols:\n",
        "        print(\"Column {} is missing:\".format(col))\n",
        "        print((df[col].values == ' ').sum())\n",
        "        print()\n",
        "\n",
        "def convert_numeric(dataframe, cols):\n",
        "    for col in cols:\n",
        "        dataframe[col] = pd.to_numeric(dataframe[col],\n",
        "                                       errors='coerce')"
      ]
    },
    {
      "cell_type": "code",
      "execution_count": null,
      "id": "e7f6af32",
      "metadata": {
        "id": "e7f6af32"
      },
      "outputs": [],
      "source": [
        "cols = ['internetuserate', 'employrate']\n",
        "\n",
        "df2 = df.copy()\n",
        "\n",
        "convert_numeric(df2, cols)"
      ]
    },
    {
      "cell_type": "code",
      "execution_count": null,
      "id": "db0eec28",
      "metadata": {
        "colab": {
          "base_uri": "https://localhost:8080/"
        },
        "id": "db0eec28",
        "outputId": "4c7718ad-ab5e-4d5c-ce5d-d29ab555c82c"
      },
      "outputs": [
        {
          "output_type": "stream",
          "name": "stdout",
          "text": [
            "Column internetuserate is missing:\n",
            "21\n",
            "\n",
            "Column employrate is missing:\n",
            "35\n",
            "\n"
          ]
        }
      ],
      "source": [
        "\n",
        "\n",
        "check_missing_values(df, cols)"
      ]
    },
    {
      "cell_type": "markdown",
      "id": "7d04b036",
      "metadata": {
        "id": "7d04b036"
      },
      "source": [
        "Как видим, написание кастомной функции позволило корректно находить пропуски в данных. Ведь мы видим, что их точно больше 0"
      ]
    },
    {
      "cell_type": "markdown",
      "id": "75c1b246",
      "metadata": {
        "id": "75c1b246"
      },
      "source": [
        "Удалим пропуски в данных. Это позволит быть уверенными, что в вариационных рядах для двух факторво число наблюдений точно совпадает."
      ]
    },
    {
      "cell_type": "code",
      "execution_count": null,
      "id": "cbb82773",
      "metadata": {
        "id": "cbb82773"
      },
      "outputs": [],
      "source": [
        "df_clean = df2[['country','internetuserate', 'employrate']].dropna()"
      ]
    },
    {
      "cell_type": "code",
      "execution_count": null,
      "id": "7ce6358f",
      "metadata": {
        "colab": {
          "base_uri": "https://localhost:8080/"
        },
        "id": "7ce6358f",
        "outputId": "83569577-62c5-475e-e58c-422b14ae5de5"
      },
      "outputs": [
        {
          "output_type": "execute_result",
          "data": {
            "text/plain": [
              "167"
            ]
          },
          "metadata": {},
          "execution_count": 20
        }
      ],
      "source": [
        "\n",
        "\n",
        "len(df_clean)\n"
      ]
    },
    {
      "cell_type": "code",
      "execution_count": null,
      "id": "7206626a",
      "metadata": {
        "colab": {
          "base_uri": "https://localhost:8080/"
        },
        "id": "7206626a",
        "outputId": "5c63e03e-24cf-4e8c-db15-1dffdfc31b9d"
      },
      "outputs": [
        {
          "output_type": "execute_result",
          "data": {
            "text/plain": [
              "213"
            ]
          },
          "metadata": {},
          "execution_count": 19
        }
      ],
      "source": [
        "\n",
        "len(df2)"
      ]
    },
    {
      "cell_type": "code",
      "execution_count": null,
      "id": "ad611663",
      "metadata": {
        "colab": {
          "base_uri": "https://localhost:8080/"
        },
        "id": "ad611663",
        "outputId": "9aa28731-efb9-41c5-f3e5-4fe60ed9b505"
      },
      "outputs": [
        {
          "output_type": "stream",
          "name": "stdout",
          "text": [
            "46\n"
          ]
        }
      ],
      "source": [
        "\n",
        "print(len(df2)-len(df_clean))"
      ]
    },
    {
      "cell_type": "markdown",
      "id": "eeb6f46f",
      "metadata": {
        "id": "eeb6f46f"
      },
      "source": [
        "##### Визуализация"
      ]
    },
    {
      "cell_type": "code",
      "execution_count": null,
      "id": "960e1828",
      "metadata": {
        "id": "960e1828"
      },
      "outputs": [],
      "source": [
        "\n",
        "\n",
        "def plt_regression(x, y, data, label_1, label_2):\n",
        "\n",
        "    reg_plot = regplot(x=x, y=y, fit_reg=True, data=data)\n",
        "    plt.xlabel(label_1)\n",
        "    plt.ylabel(label_2)\n",
        "    plt.show()"
      ]
    },
    {
      "cell_type": "markdown",
      "id": "95052f12",
      "metadata": {
        "id": "95052f12"
      },
      "source": [
        "##### А теперь время поисследовать как соотносятся тренды двух факторов между собой\n",
        "\n",
        "Предлагаю вам поисследовать два фактора: Уровень занятости населения (employrate) и Уровень использования интернета (internetuserate)"
      ]
    },
    {
      "cell_type": "code",
      "execution_count": null,
      "id": "17e203cc",
      "metadata": {
        "colab": {
          "base_uri": "https://localhost:8080/",
          "height": 470
        },
        "id": "17e203cc",
        "outputId": "2ee431cc-2fa3-4e76-84af-59a3e15cc0be"
      },
      "outputs": [
        {
          "output_type": "display_data",
          "data": {
            "text/plain": [
              "<Figure size 640x480 with 1 Axes>"
            ],
            "image/png": "[encoded data removed]"
          },
          "metadata": {}
        },
        {
          "output_type": "stream",
          "name": "stdout",
          "text": [
            "None\n"
          ]
        }
      ],
      "source": [
        "\n",
        "print(plt_regression('employrate','internetuserate', df_clean, 'Employrate','Internetuserate'))"
      ]
    },
    {
      "cell_type": "markdown",
      "id": "5ee1a794",
      "metadata": {
        "id": "5ee1a794"
      },
      "source": [
        "Какие выводы можно сделать из построенного графика?"
      ]
    },
    {
      "cell_type": "markdown",
      "id": "5227944b",
      "metadata": {
        "id": "5227944b"
      },
      "source": [
        "##### Вычилим значение коэффициента корреляции для факторов 'employrate' и 'internetuserate'\n",
        "\n",
        "В случае текущих данных нам можно применить корреляцию Пирсона. На это есть несколько причин:\n",
        "- у нас есть точные наблюдаемые значения (не приближенные, с которыми помогает работать коэффициент корреляции Спирмена)\n",
        "- корреляция Пирсона похзволяет получать более точные значения, так как работает с точными значениями"
      ]
    },
    {
      "cell_type": "code",
      "execution_count": null,
      "id": "354b9c17",
      "metadata": {
        "id": "354b9c17"
      },
      "outputs": [],
      "source": [
        "\n",
        "from scipy.stats import pearsonr"
      ]
    },
    {
      "cell_type": "code",
      "execution_count": null,
      "id": "1a6a4363",
      "metadata": {
        "colab": {
          "base_uri": "https://localhost:8080/"
        },
        "id": "1a6a4363",
        "outputId": "c0549d83-74f1-4547-866b-306666cd0189"
      },
      "outputs": [
        {
          "output_type": "stream",
          "name": "stdout",
          "text": [
            "Pearson correlation: \n",
            "PearsonRResult(statistic=-0.19430856705848099, pvalue=0.011863147819071402)\n"
          ]
        }
      ],
      "source": [
        "\n",
        "\n",
        "print('Pearson correlation: ')\n",
        "print(pearsonr(df_clean['employrate'] ,df_clean['internetuserate']))"
      ]
    },
    {
      "cell_type": "code",
      "execution_count": null,
      "id": "a2f1daa6",
      "metadata": {
        "id": "a2f1daa6"
      },
      "outputs": [],
      "source": []
    }
  ],
  "metadata": {
    "kernelspec": {
      "display_name": "Python 3 (ipykernel)",
      "language": "python",
      "name": "python3"
    },
    "language_info": {
      "codemirror_mode": {
        "name": "ipython",
        "version": 3
      },
      "file_extension": ".py",
      "mimetype": "text/x-python",
      "name": "python",
      "nbconvert_exporter": "python",
      "pygments_lexer": "ipython3",
      "version": "3.9.13"
    },
    "colab": {
      "provenance": []
    }
  },
  "nbformat": 4,
  "nbformat_minor": 5
}